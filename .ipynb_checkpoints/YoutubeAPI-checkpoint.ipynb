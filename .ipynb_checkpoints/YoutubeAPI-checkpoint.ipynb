{
 "cells": [
  {
   "cell_type": "code",
   "execution_count": 1,
   "id": "f50df563-c14b-4eda-84e0-85f8eec23035",
   "metadata": {
    "tags": []
   },
   "outputs": [],
   "source": [
    "from googleapiclient.discovery import build\n",
    "from IPython.display import JSON"
   ]
  },
  {
   "cell_type": "code",
   "execution_count": 2,
   "id": "e271bec0-d0f5-4945-9099-2e7d372148a6",
   "metadata": {
    "tags": []
   },
   "outputs": [],
   "source": [
    "import pandas as pd"
   ]
  },
  {
   "cell_type": "code",
   "execution_count": 3,
   "id": "8ece64a9-4610-4d21-ae9c-6c0a6ea9facb",
   "metadata": {
    "tags": []
   },
   "outputs": [],
   "source": [
    "# api_key = 'API Key'"
   ]
  },
  {
   "cell_type": "code",
   "execution_count": 4,
   "id": "dfd9f282-5fe0-4dd1-bec3-821a07c58fc1",
   "metadata": {
    "tags": []
   },
   "outputs": [],
   "source": [
    "channel_ids = ['UCJQJAI7IjbLcpsjWdSzYz0Q', # Thu Vu Data Analytics\n",
    "               #more channels here\n",
    "              ]"
   ]
  },
  {
   "cell_type": "code",
   "execution_count": 5,
   "id": "2d88fb95-d142-4d6e-95d4-6f6c958a9993",
   "metadata": {},
   "outputs": [],
   "source": [
    "api_service_name = \"youtube\"\n",
    "api_version = \"v3\"\n",
    "\n",
    "\n",
    "# Get credentials and create an API client\n",
    "youtube = build(\n",
    "    api_service_name, api_version, developerKey=api_key)"
   ]
  },
  {
   "cell_type": "code",
   "execution_count": 6,
   "id": "f7ddc093-f948-442c-b582-18f7f3562d00",
   "metadata": {
    "tags": []
   },
   "outputs": [],
   "source": [
    "\n",
    "\n",
    "def get_channel_stats(youtube, channel_ids):\n",
    "    \n",
    "    \"\"\"\n",
    "    Get channel stats\n",
    "    \n",
    "    Params:\n",
    "    ------\n",
    "    youtube: build object of Youtube API\n",
    "    channel_ids: list of channel IDs\n",
    "    \n",
    "    Returns:\n",
    "    ------\n",
    "    dataframe with all channel stats for each channel ID\n",
    "    \n",
    "    \"\"\"\n",
    "    \n",
    "    all_data = []\n",
    "    \n",
    "    request = youtube.channels().list(\n",
    "        part=\"snippet,contentDetails,statistics\",\n",
    "        id=','.join(channel_ids)\n",
    "    )\n",
    "    response = request.execute()\n",
    "\n",
    "    # loop through items\n",
    "    for item in response['items']:\n",
    "        data = {'channelName': item['snippet']['title'],\n",
    "                'subscribers': item['statistics']['subscriberCount'],\n",
    "                'views': item['statistics']['viewCount'],\n",
    "                'totalVideos': item['statistics']['videoCount'],\n",
    "                'playlistId': item['contentDetails']['relatedPlaylists']['uploads']\n",
    "        }\n",
    "        \n",
    "        all_data.append(data)\n",
    "        \n",
    "    return(pd.DataFrame(all_data))\n",
    "\n",
    "def get_video_ids(youtube, playlist_id):\n",
    "    \n",
    "    video_ids = []\n",
    "    \n",
    "    request = youtube.playlistItems().list(\n",
    "        part=\"snippet,contentDetails\",\n",
    "        playlistId=playlist_id,\n",
    "        maxResults = 50\n",
    "    )\n",
    "    response = request.execute()\n",
    "    \n",
    "    for item in response['items']:\n",
    "        video_ids.append(item['contentDetails']['videoId'])\n",
    "        \n",
    "    next_page_token = response.get('nextPageToken')\n",
    "    while next_page_token is not None:\n",
    "        request = youtube.playlistItems().list(\n",
    "                    part='contentDetails',\n",
    "                    playlistId = playlist_id,\n",
    "                    maxResults = 50,\n",
    "                    pageToken = next_page_token)\n",
    "        response = request.execute()\n",
    "\n",
    "        for item in response['items']:\n",
    "            video_ids.append(item['contentDetails']['videoId'])\n",
    "\n",
    "        next_page_token = response.get('nextPageToken')\n",
    "        \n",
    "    return video_ids\n",
    "    \n",
    "    \n",
    "def get_video_details(youtube, video_ids):\n",
    "\n",
    "    all_video_info = []\n",
    "    \n",
    "    for i in range(0, len(video_ids), 50):\n",
    "        request = youtube.videos().list(\n",
    "            part=\"snippet,contentDetails,statistics\",\n",
    "            id=','.join(video_ids[i:i+50])\n",
    "        )\n",
    "        response = request.execute() \n",
    "\n",
    "        for video in response['items']:\n",
    "            stats_to_keep = {'snippet': ['channelTitle', 'title', 'description', 'tags', 'publishedAt'],\n",
    "                             'statistics': ['viewCount', 'likeCount', 'favouriteCount', 'commentCount'],\n",
    "                             'contentDetails': ['duration', 'definition', 'caption']\n",
    "                            }\n",
    "            video_info = {}\n",
    "            video_info['video_id'] = video['id']\n",
    "\n",
    "            for k in stats_to_keep.keys():\n",
    "                for v in stats_to_keep[k]:\n",
    "                    try:\n",
    "                        video_info[v] = video[k][v]\n",
    "                    except:\n",
    "                        video_info[v] = None\n",
    "\n",
    "            all_video_info.append(video_info)\n",
    "    \n",
    "    return pd.DataFrame(all_video_info)\n",
    "\n",
    "# def get_comments_in_videos(youtube, video_ids):\n",
    "#     \"\"\"\n",
    "#     Get top level comments as text from all videos with given IDs (only the first 10 comments due to quote limit of Youtube API)\n",
    "#     Params:\n",
    "    \n",
    "#     youtube: the build object from googleapiclient.discovery\n",
    "#     video_ids: list of video IDs\n",
    "    \n",
    "#     Returns:\n",
    "#     Dataframe with video IDs and associated top level comment in text.\n",
    "    \n",
    "#     \"\"\"\n",
    "#     all_comments = []\n",
    "    \n",
    "#     for video_id in video_ids:\n",
    "#         try:   \n",
    "#             request = youtube.commentThreads().list(\n",
    "#                 part=\"snippet,replies\",\n",
    "#                 videoId=video_id\n",
    "#             )\n",
    "#             response = request.execute()\n",
    "        \n",
    "#             comments_in_video = [comment['snippet']['topLevelComment']['snippet']['textOriginal'] for comment in response['items'][0:10]]\n",
    "#             comments_in_video_info = {'video_id': video_id, 'comments': comments_in_video}\n",
    "\n",
    "#             all_comments.append(comments_in_video_info)\n",
    "            \n",
    "#         except: \n",
    "#             # When error occurs - most likely because comments are disabled on a video\n",
    "#             print('Could not get comments for video ' + video_id)\n",
    "        \n",
    "#     return pd.DataFrame(all_comments) \n",
    "\n"
   ]
  },
  {
   "cell_type": "code",
   "execution_count": 7,
   "id": "228448e1-2607-420f-90a1-2d28d6a4928d",
   "metadata": {},
   "outputs": [],
   "source": [
    "channel_stats = get_channel_stats(youtube, channel_ids)"
   ]
  },
  {
   "cell_type": "code",
   "execution_count": 8,
   "id": "f20391ff-16ee-4428-871e-a18dd1d17865",
   "metadata": {
    "tags": []
   },
   "outputs": [
    {
     "data": {
      "text/html": [
       "<div>\n",
       "<style scoped>\n",
       "    .dataframe tbody tr th:only-of-type {\n",
       "        vertical-align: middle;\n",
       "    }\n",
       "\n",
       "    .dataframe tbody tr th {\n",
       "        vertical-align: top;\n",
       "    }\n",
       "\n",
       "    .dataframe thead th {\n",
       "        text-align: right;\n",
       "    }\n",
       "</style>\n",
       "<table border=\"1\" class=\"dataframe\">\n",
       "  <thead>\n",
       "    <tr style=\"text-align: right;\">\n",
       "      <th></th>\n",
       "      <th>channelName</th>\n",
       "      <th>subscribers</th>\n",
       "      <th>views</th>\n",
       "      <th>totalVideos</th>\n",
       "      <th>playlistId</th>\n",
       "    </tr>\n",
       "  </thead>\n",
       "  <tbody>\n",
       "    <tr>\n",
       "      <th>0</th>\n",
       "      <td>Thu Vu data analytics</td>\n",
       "      <td>166000</td>\n",
       "      <td>5353692</td>\n",
       "      <td>74</td>\n",
       "      <td>UUJQJAI7IjbLcpsjWdSzYz0Q</td>\n",
       "    </tr>\n",
       "  </tbody>\n",
       "</table>\n",
       "</div>"
      ],
      "text/plain": [
       "             channelName subscribers    views totalVideos  \\\n",
       "0  Thu Vu data analytics      166000  5353692          74   \n",
       "\n",
       "                 playlistId  \n",
       "0  UUJQJAI7IjbLcpsjWdSzYz0Q  "
      ]
     },
     "execution_count": 8,
     "metadata": {},
     "output_type": "execute_result"
    }
   ],
   "source": [
    "channel_stats"
   ]
  },
  {
   "cell_type": "code",
   "execution_count": 9,
   "id": "67a7222d-2616-4322-b0da-8be425d8d1e9",
   "metadata": {
    "tags": []
   },
   "outputs": [
    {
     "data": {
      "application/json": {
       "etag": "0fDhVwm1aS5uoB3WsZ_to8Kks50",
       "items": [
        {
         "contentDetails": {
          "videoId": "EzVIkHQWnhc",
          "videoPublishedAt": "2023-08-22T00:29:27Z"
         },
         "etag": "LB7ygjrsX5Uyvu269lrzMvKD584",
         "id": "VVVKUUpBSTdJamJMY3BzaldkU3pZejBRLkV6VklrSFFXbmhj",
         "kind": "youtube#playlistItem",
         "snippet": {
          "channelId": "UCJQJAI7IjbLcpsjWdSzYz0Q",
          "channelTitle": "Thu Vu data analytics",
          "description": "🏆 Check out Antigranular competition & win cash prizes up to €5,500  👉 https://www.antigranular.com/competitions\n📔 Sample notebook working with sensitive private data 👉 https://shorturl.at/yKX89\n\nHi everyone, in today's video we'll be talking about working with private and sensitive data. A lot of times data scientists do not work on the most valuable and \"cool\" datasets, simply because these datasets contain too sensitive individual information. I have encountered this many times at my work, and it's frustrating! In this video, I will give you a brief introduction to different techniques for handling senstive data, and how to implement them using Antigranular platform. \n\nThank you for watching! 😇\n\n🔑 TIMESTAMPS\n================================\n0:00 - Intro\n1:00 - Antigranular/ Oblivious (sponsor)\n1:22 - Overview of privacy-enhancing technologies\n4:28 - Antigranular & competition 🏆\n5:58 - What is Differential Privacy?\n6:51 - Sample notebook walkthrough\n7:49 - What is Secure Enclave?\n8:34 - Sample notebook walkthrough (cont.)\n11:07 - Training a regression model on private data\n11:46 - Outro\n\n👩🏻‍💻 COURSES & RESOURCES\n================================\n📖 Google Advanced Data Analytics Certificate 👉 https://imp.i384100.net/anK9zZ\n📖 Google Data Analytics Certificate 👉 https://imp.i384100.net/15v9y6\n📖 Learn SQL Basics for Data Science Specialization 👉 https://imp.i384100.net/AovPnJ\n📖 Excel Skills for Business 👉 https://coursera.pxf.io/doPaoy\n📖 Machine Learning Specialization 👉 https://imp.i384100.net/RyjykN\n📖 Data Visualization with Tableau Specialization 👉https://imp.i384100.net/n15XWR\n📖 Deep Learning Specialization 👉 https://imp.i384100.net/zavBA0\n📖 Mathematics for Machine Learning and Data Science Specialization 👉 https://imp.i384100.net/LXK0gj\n📖 Applied Data Science with Python 👉 https://imp.i384100.net/gbxOqv\n\n🙋🏻‍♀️ LET'S CONNECT!\n================================\n🤓 Join my Discord server: https://discord.gg/SK7ZC5XhcS\n📩  Newsletter: https://substack.com/profile/87689887-thu-vu\n✍ Medium: https://medium.com/@vuthihienthu.ueb\n🔗 All links: https://linktr.ee/thuvuanalytics\n\nAs a member of the Amazon and Coursera Affiliate Programs, I earn a commission from qualifying purchases on the links above. By using the links you help support this channel at no cost for you.\n\nEdited with Gling: https://gling.ai\n#dataprivacy #datascience #ThuVu #dataanalytics",
          "playlistId": "UUJQJAI7IjbLcpsjWdSzYz0Q",
          "position": 0,
          "publishedAt": "2023-08-22T00:29:27Z",
          "resourceId": {
           "kind": "youtube#video",
           "videoId": "EzVIkHQWnhc"
          },
          "thumbnails": {
           "default": {
            "height": 90,
            "url": "https://i.ytimg.com/vi/EzVIkHQWnhc/default.jpg",
            "width": 120
           },
           "high": {
            "height": 360,
            "url": "https://i.ytimg.com/vi/EzVIkHQWnhc/hqdefault.jpg",
            "width": 480
           },
           "maxres": {
            "height": 720,
            "url": "https://i.ytimg.com/vi/EzVIkHQWnhc/maxresdefault.jpg",
            "width": 1280
           },
           "medium": {
            "height": 180,
            "url": "https://i.ytimg.com/vi/EzVIkHQWnhc/mqdefault.jpg",
            "width": 320
           },
           "standard": {
            "height": 480,
            "url": "https://i.ytimg.com/vi/EzVIkHQWnhc/sddefault.jpg",
            "width": 640
           }
          },
          "title": "How to Handle Sensitive Data in Data Science (ft. Oblivious)",
          "videoOwnerChannelId": "UCJQJAI7IjbLcpsjWdSzYz0Q",
          "videoOwnerChannelTitle": "Thu Vu data analytics"
         }
        },
        {
         "contentDetails": {
          "videoId": "8sLq4P-QDL0",
          "videoPublishedAt": "2023-07-15T19:02:17Z"
         },
         "etag": "VV1tiYaBNBeVzKRFKwKTDx1Ats8",
         "id": "VVVKUUpBSTdJamJMY3BzaldkU3pZejBRLjhzTHE0UC1RREww",
         "kind": "youtube#playlistItem",
         "snippet": {
          "channelId": "UCJQJAI7IjbLcpsjWdSzYz0Q",
          "channelTitle": "Thu Vu data analytics",
          "description": "I tell ChatGPT Code Interpreter to do my job 😅\n\n\nDATA SCIENCE COURSES:\n📖 Learn SQL Basics for Data Science Specialization 👉 https://imp.i384100.net/AovPnJ\n📖 Excel Skills for Business 👉 https://coursera.pxf.io/doPaoy\n📖 Machine Learning Specialization 👉 https://imp.i384100.net/RyjykN\n📖 Data Visualization with Tableau Specialization 👉https://imp.i384100.net/n15XWR\n📖 Deep Learning Specialization 👉 https://imp.i384100.net/zavBA0\n📖 Mathematics for Machine Learning and Data Science Specialization 👉 https://imp.i384100.net/LXK0gj\n📖 Google Data Analytics Certificate 👉 https://imp.i384100.net/15v9y6\n📖 Applied Data Science with Python 👉 https://imp.i384100.net/gbxOqv\n\n\n#shorts",
          "playlistId": "UUJQJAI7IjbLcpsjWdSzYz0Q",
          "position": 1,
          "publishedAt": "2023-07-15T19:02:17Z",
          "resourceId": {
           "kind": "youtube#video",
           "videoId": "8sLq4P-QDL0"
          },
          "thumbnails": {
           "default": {
            "height": 90,
            "url": "https://i.ytimg.com/vi/8sLq4P-QDL0/default.jpg",
            "width": 120
           },
           "high": {
            "height": 360,
            "url": "https://i.ytimg.com/vi/8sLq4P-QDL0/hqdefault.jpg",
            "width": 480
           },
           "maxres": {
            "height": 720,
            "url": "https://i.ytimg.com/vi/8sLq4P-QDL0/maxresdefault.jpg",
            "width": 1280
           },
           "medium": {
            "height": 180,
            "url": "https://i.ytimg.com/vi/8sLq4P-QDL0/mqdefault.jpg",
            "width": 320
           },
           "standard": {
            "height": 480,
            "url": "https://i.ytimg.com/vi/8sLq4P-QDL0/sddefault.jpg",
            "width": 640
           }
          },
          "title": "I Tried ChatGPT Code Interpreter for Data Tasks - it's a game changer!",
          "videoOwnerChannelId": "UCJQJAI7IjbLcpsjWdSzYz0Q",
          "videoOwnerChannelTitle": "Thu Vu data analytics"
         }
        },
        {
         "contentDetails": {
          "videoId": "3736Pd_hwFQ",
          "videoPublishedAt": "2023-07-08T09:45:30Z"
         },
         "etag": "orHtbKJrzwZ3BdRWuRyMOdClVps",
         "id": "VVVKUUpBSTdJamJMY3BzaldkU3pZejBRLjM3MzZQZF9od0ZR",
         "kind": "youtube#playlistItem",
         "snippet": {
          "channelId": "UCJQJAI7IjbLcpsjWdSzYz0Q",
          "channelTitle": "Thu Vu data analytics",
          "description": "📩 Interested in hearing about my coming courses? 👉 https://forms.gle/u4h9fLmbxjQHHScb9\n📚 Glimpse into R data.table 👉 https://bookdown.org/brianjmpark/everydayR/interlude-i-a-brief-glimpse-into-data.html\n\nHi everyone 👋! In this video I demonstrated 40 tips to help you become more proficient in day-to-day data science tools such as Jupyter notebooks, VS Code, Python, R and RStudio, and Excel! It's definitely the longest video I have ever made and took me tons of time, but hopefully it will give you some useful tips, no matter if you are a novice or a seasoned data analyst/ data scientist.\n\nThank you for watching and have a great day! 🤗\n\n🔑 TIMESTAMPS\n================================\n\nTips for Jupyter notebooks:\n00:00 Intro\n00:48 Jupyter Notebooks\n00:50 - #1 Use JupyterLab/ VS Code (instead of Notebook)\n2:44 - #2 Useful shortcuts in notebooks\n7:44 - #3 Add an image to notebooks\n8:36 - #4 Move around quickly\n10:04 - #5 Multi-cursors\n11:16 - #6 Code completion\n11:41 - #7 Debugging in JupyterLab\n19:45 - #8 Magics\n23:07 - #9 Timeit magic\n24:40 - #10 Writing formulas in notebook cells\n\nTips for Python:\n25:46 - Python\n25:58 - #11 Chaining comparisons\n26:31 - #12 Using f-strings\n27:32 - #13 List comprehensions\n29:12 - #14 Creating Python virtual environments\n30:47 - #15 Creating and using requirements.txt file\n32:39 - #16 Python libraries for profiling reports\n33:38 - #17 Highlighting pandas tables\n35:17 - #18 Type hinting\n\nTips for Visual Studio Code:\n37:14 - VS Code\n37:30 - #19 Opening project folders VS Code\n39:07 - #20 Using code completion VS Code\n39:43 - #21 Useful shortcuts in VS Code\n42:32 - #22 Running Python scripts interactively in VS Code\n43:55 - #23 Debugging in VS Code\n\nTips for RStudio (sorry I accidentally had double #27 here 😅)\n46:07 - RStudio\n46:23 - #24 Shortcuts in RStudio\n47:11 - #25 Find function definition in RStudio\n48:48 - #26 Creating R projects\n50:08 - #27 Debugging in RStudio\n51:20 - #27 The most useful package in R 😉\n52:31 - #28 Data profiling in R\n54:16 - #29 Parallelizing code in R (doParallel package)\n\nTips for Excel:\n59:16 - Excel\n59:41 - #30 Customising status bar in Excel\n1:00:24 - #31 Using Analyze Data tool in Excel\n1:02:48 - #32 Using Excel table\n1:05:24 - #33 Creating slicers for Excel reports\n1:06:28 - #34 Keyboard shortcuts in Excel\n1:07:48 - #35 Typing headers quickly in Excel \n1:08:27 - #36 Doing statistical analyses in Excel\n1:09:52 - #37 Filling blank values in Excel\n1:10:43 - #38 Conditional formatting in Excel\n1:12:00 - #39 Recording custom Excel macros\n1:15:15 Conclusion\n\n👩🏻‍💻 COURSES & RESOURCES\n================================\n📖 Google Advanced Data Analytics Certificate 👉 https://imp.i384100.net/anK9zZ\n📖 Google Data Analytics Certificate 👉 https://imp.i384100.net/15v9y6\n📖 Learn SQL Basics for Data Science Specialization 👉 https://imp.i384100.net/AovPnJ\n📖 Excel Skills for Business 👉 https://coursera.pxf.io/doPaoy\n📖 Machine Learning Specialization 👉 https://imp.i384100.net/RyjykN\n📖 Data Visualization with Tableau Specialization 👉https://imp.i384100.net/n15XWR\n📖 Deep Learning Specialization 👉 https://imp.i384100.net/zavBA0\n📖 Mathematics for Machine Learning and Data Science Specialization 👉 https://imp.i384100.net/LXK0gj\n📖 Applied Data Science with Python 👉 https://imp.i384100.net/gbxOqv\n\n🙋🏻‍♀️ LET'S CONNECT!\n================================\n🤓 Join my Discord server: https://discord.gg/SK7ZC5XhcS\n📩  Newsletter: https://substack.com/profile/87689887-thu-vu\n✍ Medium: https://medium.com/@vuthihienthu.ueb\n🔗 All links: https://linktr.ee/thuvuanalytics\n\nAs a member of the Amazon and Coursera Affiliate Programs, I earn a commission from qualifying purchases on the links above. By using the links you help support this channel at no cost for you.\n\nEdited with Gling: https://gling.ai\n#python #datascience #productivity",
          "playlistId": "UUJQJAI7IjbLcpsjWdSzYz0Q",
          "position": 2,
          "publishedAt": "2023-07-08T09:45:30Z",
          "resourceId": {
           "kind": "youtube#video",
           "videoId": "3736Pd_hwFQ"
          },
          "thumbnails": {
           "default": {
            "height": 90,
            "url": "https://i.ytimg.com/vi/3736Pd_hwFQ/default.jpg",
            "width": 120
           },
           "high": {
            "height": 360,
            "url": "https://i.ytimg.com/vi/3736Pd_hwFQ/hqdefault.jpg",
            "width": 480
           },
           "maxres": {
            "height": 720,
            "url": "https://i.ytimg.com/vi/3736Pd_hwFQ/maxresdefault.jpg",
            "width": 1280
           },
           "medium": {
            "height": 180,
            "url": "https://i.ytimg.com/vi/3736Pd_hwFQ/mqdefault.jpg",
            "width": 320
           },
           "standard": {
            "height": 480,
            "url": "https://i.ytimg.com/vi/3736Pd_hwFQ/sddefault.jpg",
            "width": 640
           }
          },
          "title": "40 Productivity Tips that Make You More Pro in Data science 😉",
          "videoOwnerChannelId": "UCJQJAI7IjbLcpsjWdSzYz0Q",
          "videoOwnerChannelTitle": "Thu Vu data analytics"
         }
        },
        {
         "contentDetails": {
          "videoId": "PvnSSrnjLX8",
          "videoPublishedAt": "2023-06-16T22:57:31Z"
         },
         "etag": "aeTBpfuamxD07pi7X3vKukanAXg",
         "id": "VVVKUUpBSTdJamJMY3BzaldkU3pZejBRLlB2blNTcm5qTFg4",
         "kind": "youtube#playlistItem",
         "snippet": {
          "channelId": "UCJQJAI7IjbLcpsjWdSzYz0Q",
          "channelTitle": "Thu Vu data analytics",
          "description": "📊 Enroll with this link to get 10% off the Data Analytics Program (CareerFoundry) until the end of the year!  https://bit.ly/442qq8H\n📞 Not sure whether a career in Data Analytics is the right choice for you? Book a call with a\nProgram Advisor to get their personalized advice: https://bit.ly/3p6s0aO\n🖥 Want to know what it's like to be a Data Analyst? Check out CareerFoundry's free short course! https://bit.ly/3CuKODQ\n\n🔑 TIMESTAMPS\n================================\n0:00 - Intro\n1:17 - What is CareerFoundry\n1:42 - Overview of program structure\n3:02 - Job guarantees\n4:23 - Mentorship\n5:59 - Detailed curriculum\n8:05 - Learning portal and course walkthrough\n10:47 - What I like and don't like\n12:45 - Price\n15:18 - Who I'd recommend this course to\n\n🙋🏻‍♀️ LET'S CONNECT!\n================================\n🤓 Join my Discord server: https://discord.gg/SK7ZC5XhcS\n📩  Newsletter: https://substack.com/profile/87689887-thu-vu\n✍ Medium: https://medium.com/@vuthihienthu.ueb\n🔗 All links: https://linktr.ee/thuvuanalytics\n\nAs a member of the Amazon and Coursera Affiliate Programs, I earn a commission from qualifying purchases on the links above. By using the links you help support this channel at no cost for you.\n\nEdited with Gling: https://gling.ai\n#datanalytics #datascience #ThuVu",
          "playlistId": "UUJQJAI7IjbLcpsjWdSzYz0Q",
          "position": 3,
          "publishedAt": "2023-06-16T22:57:31Z",
          "resourceId": {
           "kind": "youtube#video",
           "videoId": "PvnSSrnjLX8"
          },
          "thumbnails": {
           "default": {
            "height": 90,
            "url": "https://i.ytimg.com/vi/PvnSSrnjLX8/default.jpg",
            "width": 120
           },
           "high": {
            "height": 360,
            "url": "https://i.ytimg.com/vi/PvnSSrnjLX8/hqdefault.jpg",
            "width": 480
           },
           "maxres": {
            "height": 720,
            "url": "https://i.ytimg.com/vi/PvnSSrnjLX8/maxresdefault.jpg",
            "width": 1280
           },
           "medium": {
            "height": 180,
            "url": "https://i.ytimg.com/vi/PvnSSrnjLX8/mqdefault.jpg",
            "width": 320
           },
           "standard": {
            "height": 480,
            "url": "https://i.ytimg.com/vi/PvnSSrnjLX8/sddefault.jpg",
            "width": 640
           }
          },
          "title": "Self-taught vs. Guided Program: CareerFoundry's Data Analytics Program Review",
          "videoOwnerChannelId": "UCJQJAI7IjbLcpsjWdSzYz0Q",
          "videoOwnerChannelTitle": "Thu Vu data analytics"
         }
        },
        {
         "contentDetails": {
          "videoId": "S5U76LPu_bQ",
          "videoPublishedAt": "2023-06-08T16:10:11Z"
         },
         "etag": "kGSC0uIongfieVEfy8gZxRafrBE",
         "id": "VVVKUUpBSTdJamJMY3BzaldkU3pZejBRLlM1VTc2TFB1X2JR",
         "kind": "youtube#playlistItem",
         "snippet": {
          "channelId": "UCJQJAI7IjbLcpsjWdSzYz0Q",
          "channelTitle": "Thu Vu data analytics",
          "description": "I've been thinking lately if it's still worth it to pursue my Computer Science degree, given that AI is changing our jobs and lives at a neckbreaking speed. Hope this video is helpful for some of you who are asking yourselves the same question! Thank you for watching 😇.\n\n👩🏻‍💻 COURSES & RESOURCES\n================================\n📖 Google Advanced Data Analytics Certificate 👉 https://imp.i384100.net/anK9zZ\n📖 Google Data Analytics Certificate 👉 https://imp.i384100.net/15v9y6\n📖 Learn SQL Basics for Data Science Specialization 👉 https://imp.i384100.net/AovPnJ\n📖 Excel Skills for Business 👉 https://coursera.pxf.io/doPaoy\n📖 Machine Learning Specialization 👉 https://imp.i384100.net/RyjykN\n📖 Data Visualization with Tableau Specialization 👉https://imp.i384100.net/n15XWR\n📖 Deep Learning Specialization 👉 https://imp.i384100.net/zavBA0\n📖 Mathematics for Machine Learning and Data Science Specialization 👉 https://imp.i384100.net/LXK0gj\n📖 Applied Data Science with Python 👉 https://imp.i384100.net/gbxOqv\n\n🙋🏻‍♀️ LET'S CONNECT!\n================================\n🤓 Join my Discord server: https://discord.gg/SK7ZC5XhcS\n📩  Newsletter: https://substack.com/profile/87689887-thu-vu\n✍ Medium: https://medium.com/@vuthihienthu.ueb\n🔗 All links: https://linktr.ee/thuvuanalytics\n\nAs a member of the Amazon and Coursera Affiliate Programs, I earn a commission from qualifying purchases on the links above. By using the links you help support this channel at no cost for you.\n\nEdited with Gling: https://gling.ai\n#computerscience #ai #ThuVu #dataanalytics",
          "playlistId": "UUJQJAI7IjbLcpsjWdSzYz0Q",
          "position": 4,
          "publishedAt": "2023-06-08T16:10:11Z",
          "resourceId": {
           "kind": "youtube#video",
           "videoId": "S5U76LPu_bQ"
          },
          "thumbnails": {
           "default": {
            "height": 90,
            "url": "https://i.ytimg.com/vi/S5U76LPu_bQ/default.jpg",
            "width": 120
           },
           "high": {
            "height": 360,
            "url": "https://i.ytimg.com/vi/S5U76LPu_bQ/hqdefault.jpg",
            "width": 480
           },
           "maxres": {
            "height": 720,
            "url": "https://i.ytimg.com/vi/S5U76LPu_bQ/maxresdefault.jpg",
            "width": 1280
           },
           "medium": {
            "height": 180,
            "url": "https://i.ytimg.com/vi/S5U76LPu_bQ/mqdefault.jpg",
            "width": 320
           },
           "standard": {
            "height": 480,
            "url": "https://i.ytimg.com/vi/S5U76LPu_bQ/sddefault.jpg",
            "width": 640
           }
          },
          "title": "Is a Computer Science Degree WORTHLESS 🤯? (in the age of AI)",
          "videoOwnerChannelId": "UCJQJAI7IjbLcpsjWdSzYz0Q",
          "videoOwnerChannelTitle": "Thu Vu data analytics"
         }
        }
       ],
       "kind": "youtube#playlistItemListResponse",
       "nextPageToken": "EAAaIVBUOkNBVWlFREV5UlVaQ00wSXhRelUzUkVVMFJURW9BUQ",
       "pageInfo": {
        "resultsPerPage": 5,
        "totalResults": 74
       }
      },
      "text/plain": [
       "<IPython.core.display.JSON object>"
      ]
     },
     "execution_count": 9,
     "metadata": {
      "application/json": {
       "expanded": false,
       "root": "root"
      }
     },
     "output_type": "execute_result"
    }
   ],
   "source": [
    "request = youtube.playlistItems().list(\n",
    "    part=\"snippet,contentDetails\",\n",
    "    playlistId=\"UUJQJAI7IjbLcpsjWdSzYz0Q\"\n",
    ")\n",
    "response = request.execute()\n",
    "\n",
    "JSON(response)"
   ]
  },
  {
   "cell_type": "code",
   "execution_count": 10,
   "id": "c781f610-d31d-4b17-992f-15cda90adb40",
   "metadata": {
    "tags": []
   },
   "outputs": [],
   "source": [
    "playlist_id = 'UUJQJAI7IjbLcpsjWdSzYz0Q'"
   ]
  },
  {
   "cell_type": "code",
   "execution_count": 11,
   "id": "7641bd40-c4dd-49aa-bf04-b2564e96e927",
   "metadata": {
    "tags": []
   },
   "outputs": [],
   "source": [
    "video_ids = get_video_ids(youtube, playlist_id)"
   ]
  },
  {
   "cell_type": "code",
   "execution_count": 12,
   "id": "cb6bd091-106b-4782-971f-d73c80ac448d",
   "metadata": {
    "tags": []
   },
   "outputs": [
    {
     "data": {
      "application/json": {
       "etag": "uHmza4p63WNnsBhU8JyEtzcTSF4",
       "items": [
        {
         "contentDetails": {
          "caption": "false",
          "contentRating": {},
          "definition": "hd",
          "dimension": "2d",
          "duration": "PT12M19S",
          "licensedContent": false,
          "projection": "rectangular"
         },
         "etag": "UoGCwNQk9FEwKw6P99gQXStUeaw",
         "id": "EzVIkHQWnhc",
         "kind": "youtube#video",
         "snippet": {
          "categoryId": "22",
          "channelId": "UCJQJAI7IjbLcpsjWdSzYz0Q",
          "channelTitle": "Thu Vu data analytics",
          "defaultAudioLanguage": "en-US",
          "defaultLanguage": "en-US",
          "description": "🏆 Check out Antigranular competition & win cash prizes up to €5,500  👉 https://www.antigranular.com/competitions\n📔 Sample notebook working with sensitive private data 👉 https://shorturl.at/yKX89\n\nHi everyone, in today's video we'll be talking about working with private and sensitive data. A lot of times data scientists do not work on the most valuable and \"cool\" datasets, simply because these datasets contain too sensitive individual information. I have encountered this many times at my work, and it's frustrating! In this video, I will give you a brief introduction to different techniques for handling senstive data, and how to implement them using Antigranular platform. \n\nThank you for watching! 😇\n\n🔑 TIMESTAMPS\n================================\n0:00 - Intro\n1:00 - Antigranular/ Oblivious (sponsor)\n1:22 - Overview of privacy-enhancing technologies\n4:28 - Antigranular & competition 🏆\n5:58 - What is Differential Privacy?\n6:51 - Sample notebook walkthrough\n7:49 - What is Secure Enclave?\n8:34 - Sample notebook walkthrough (cont.)\n11:07 - Training a regression model on private data\n11:46 - Outro\n\n👩🏻‍💻 COURSES & RESOURCES\n================================\n📖 Google Advanced Data Analytics Certificate 👉 https://imp.i384100.net/anK9zZ\n📖 Google Data Analytics Certificate 👉 https://imp.i384100.net/15v9y6\n📖 Learn SQL Basics for Data Science Specialization 👉 https://imp.i384100.net/AovPnJ\n📖 Excel Skills for Business 👉 https://coursera.pxf.io/doPaoy\n📖 Machine Learning Specialization 👉 https://imp.i384100.net/RyjykN\n📖 Data Visualization with Tableau Specialization 👉https://imp.i384100.net/n15XWR\n📖 Deep Learning Specialization 👉 https://imp.i384100.net/zavBA0\n📖 Mathematics for Machine Learning and Data Science Specialization 👉 https://imp.i384100.net/LXK0gj\n📖 Applied Data Science with Python 👉 https://imp.i384100.net/gbxOqv\n\n🙋🏻‍♀️ LET'S CONNECT!\n================================\n🤓 Join my Discord server: https://discord.gg/SK7ZC5XhcS\n📩  Newsletter: https://substack.com/profile/87689887-thu-vu\n✍ Medium: https://medium.com/@vuthihienthu.ueb\n🔗 All links: https://linktr.ee/thuvuanalytics\n\nAs a member of the Amazon and Coursera Affiliate Programs, I earn a commission from qualifying purchases on the links above. By using the links you help support this channel at no cost for you.\n\nEdited with Gling: https://gling.ai\n#dataprivacy #datascience #ThuVu #dataanalytics",
          "liveBroadcastContent": "none",
          "localized": {
           "description": "🏆 Check out Antigranular competition & win cash prizes up to €5,500  👉 https://www.antigranular.com/competitions\n📔 Sample notebook working with sensitive private data 👉 https://shorturl.at/yKX89\n\nHi everyone, in today's video we'll be talking about working with private and sensitive data. A lot of times data scientists do not work on the most valuable and \"cool\" datasets, simply because these datasets contain too sensitive individual information. I have encountered this many times at my work, and it's frustrating! In this video, I will give you a brief introduction to different techniques for handling senstive data, and how to implement them using Antigranular platform. \n\nThank you for watching! 😇\n\n🔑 TIMESTAMPS\n================================\n0:00 - Intro\n1:00 - Antigranular/ Oblivious (sponsor)\n1:22 - Overview of privacy-enhancing technologies\n4:28 - Antigranular & competition 🏆\n5:58 - What is Differential Privacy?\n6:51 - Sample notebook walkthrough\n7:49 - What is Secure Enclave?\n8:34 - Sample notebook walkthrough (cont.)\n11:07 - Training a regression model on private data\n11:46 - Outro\n\n👩🏻‍💻 COURSES & RESOURCES\n================================\n📖 Google Advanced Data Analytics Certificate 👉 https://imp.i384100.net/anK9zZ\n📖 Google Data Analytics Certificate 👉 https://imp.i384100.net/15v9y6\n📖 Learn SQL Basics for Data Science Specialization 👉 https://imp.i384100.net/AovPnJ\n📖 Excel Skills for Business 👉 https://coursera.pxf.io/doPaoy\n📖 Machine Learning Specialization 👉 https://imp.i384100.net/RyjykN\n📖 Data Visualization with Tableau Specialization 👉https://imp.i384100.net/n15XWR\n📖 Deep Learning Specialization 👉 https://imp.i384100.net/zavBA0\n📖 Mathematics for Machine Learning and Data Science Specialization 👉 https://imp.i384100.net/LXK0gj\n📖 Applied Data Science with Python 👉 https://imp.i384100.net/gbxOqv\n\n🙋🏻‍♀️ LET'S CONNECT!\n================================\n🤓 Join my Discord server: https://discord.gg/SK7ZC5XhcS\n📩  Newsletter: https://substack.com/profile/87689887-thu-vu\n✍ Medium: https://medium.com/@vuthihienthu.ueb\n🔗 All links: https://linktr.ee/thuvuanalytics\n\nAs a member of the Amazon and Coursera Affiliate Programs, I earn a commission from qualifying purchases on the links above. By using the links you help support this channel at no cost for you.\n\nEdited with Gling: https://gling.ai\n#dataprivacy #datascience #ThuVu #dataanalytics",
           "title": "How to Handle Sensitive Data in Data Science (ft. Oblivious)"
          },
          "publishedAt": "2023-08-22T00:29:27Z",
          "tags": [
           "data analytics",
           "data science",
           "python",
           "data",
           "tableau",
           "bi",
           "programming",
           "technology",
           "coding",
           "data visualization",
           "python tutorial",
           "data analyst",
           "data scientist",
           "data analysis",
           "power bi",
           "python data anlysis",
           "data nerd",
           "big data",
           "learn to code",
           "business intelligence",
           "how to use r",
           "r data analysis",
           "vscode"
          ],
          "thumbnails": {
           "default": {
            "height": 90,
            "url": "https://i.ytimg.com/vi/EzVIkHQWnhc/default.jpg",
            "width": 120
           },
           "high": {
            "height": 360,
            "url": "https://i.ytimg.com/vi/EzVIkHQWnhc/hqdefault.jpg",
            "width": 480
           },
           "maxres": {
            "height": 720,
            "url": "https://i.ytimg.com/vi/EzVIkHQWnhc/maxresdefault.jpg",
            "width": 1280
           },
           "medium": {
            "height": 180,
            "url": "https://i.ytimg.com/vi/EzVIkHQWnhc/mqdefault.jpg",
            "width": 320
           },
           "standard": {
            "height": 480,
            "url": "https://i.ytimg.com/vi/EzVIkHQWnhc/sddefault.jpg",
            "width": 640
           }
          },
          "title": "How to Handle Sensitive Data in Data Science (ft. Oblivious)"
         },
         "statistics": {
          "commentCount": "22",
          "favoriteCount": "0",
          "likeCount": "223",
          "viewCount": "3959"
         }
        },
        {
         "contentDetails": {
          "caption": "false",
          "contentRating": {},
          "definition": "hd",
          "dimension": "2d",
          "duration": "PT58S",
          "licensedContent": true,
          "projection": "rectangular"
         },
         "etag": "JsIzwOYR9fWujnCxT4Xj2pG1_c8",
         "id": "8sLq4P-QDL0",
         "kind": "youtube#video",
         "snippet": {
          "categoryId": "22",
          "channelId": "UCJQJAI7IjbLcpsjWdSzYz0Q",
          "channelTitle": "Thu Vu data analytics",
          "defaultAudioLanguage": "en-US",
          "defaultLanguage": "en-US",
          "description": "I tell ChatGPT Code Interpreter to do my job 😅\n\n\nDATA SCIENCE COURSES:\n📖 Learn SQL Basics for Data Science Specialization 👉 https://imp.i384100.net/AovPnJ\n📖 Excel Skills for Business 👉 https://coursera.pxf.io/doPaoy\n📖 Machine Learning Specialization 👉 https://imp.i384100.net/RyjykN\n📖 Data Visualization with Tableau Specialization 👉https://imp.i384100.net/n15XWR\n📖 Deep Learning Specialization 👉 https://imp.i384100.net/zavBA0\n📖 Mathematics for Machine Learning and Data Science Specialization 👉 https://imp.i384100.net/LXK0gj\n📖 Google Data Analytics Certificate 👉 https://imp.i384100.net/15v9y6\n📖 Applied Data Science with Python 👉 https://imp.i384100.net/gbxOqv\n\n\n#shorts",
          "liveBroadcastContent": "none",
          "localized": {
           "description": "I tell ChatGPT Code Interpreter to do my job 😅\n\n\nDATA SCIENCE COURSES:\n📖 Learn SQL Basics for Data Science Specialization 👉 https://imp.i384100.net/AovPnJ\n📖 Excel Skills for Business 👉 https://coursera.pxf.io/doPaoy\n📖 Machine Learning Specialization 👉 https://imp.i384100.net/RyjykN\n📖 Data Visualization with Tableau Specialization 👉https://imp.i384100.net/n15XWR\n📖 Deep Learning Specialization 👉 https://imp.i384100.net/zavBA0\n📖 Mathematics for Machine Learning and Data Science Specialization 👉 https://imp.i384100.net/LXK0gj\n📖 Google Data Analytics Certificate 👉 https://imp.i384100.net/15v9y6\n📖 Applied Data Science with Python 👉 https://imp.i384100.net/gbxOqv\n\n\n#shorts",
           "title": "I Tried ChatGPT Code Interpreter for Data Tasks - it's a game changer!"
          },
          "publishedAt": "2023-07-15T19:02:17Z",
          "tags": [
           "data analytics",
           "data science",
           "python",
           "data",
           "tableau",
           "bi",
           "programming",
           "technology",
           "coding",
           "data visualization",
           "python tutorial",
           "data analyst",
           "data scientist",
           "data analysis",
           "power bi",
           "python data anlysis",
           "data nerd",
           "big data",
           "learn to code",
           "business intelligence",
           "how to use r",
           "r data analysis",
           "vscode"
          ],
          "thumbnails": {
           "default": {
            "height": 90,
            "url": "https://i.ytimg.com/vi/8sLq4P-QDL0/default.jpg",
            "width": 120
           },
           "high": {
            "height": 360,
            "url": "https://i.ytimg.com/vi/8sLq4P-QDL0/hqdefault.jpg",
            "width": 480
           },
           "maxres": {
            "height": 720,
            "url": "https://i.ytimg.com/vi/8sLq4P-QDL0/maxresdefault.jpg",
            "width": 1280
           },
           "medium": {
            "height": 180,
            "url": "https://i.ytimg.com/vi/8sLq4P-QDL0/mqdefault.jpg",
            "width": 320
           },
           "standard": {
            "height": 480,
            "url": "https://i.ytimg.com/vi/8sLq4P-QDL0/sddefault.jpg",
            "width": 640
           }
          },
          "title": "I Tried ChatGPT Code Interpreter for Data Tasks - it's a game changer!"
         },
         "statistics": {
          "commentCount": "50",
          "favoriteCount": "0",
          "likeCount": "1478",
          "viewCount": "32191"
         }
        },
        {
         "contentDetails": {
          "caption": "false",
          "contentRating": {},
          "definition": "hd",
          "dimension": "2d",
          "duration": "PT1H16M9S",
          "licensedContent": true,
          "projection": "rectangular"
         },
         "etag": "bqIzEHgWpOps_A-GZ2iKyrjnSHA",
         "id": "3736Pd_hwFQ",
         "kind": "youtube#video",
         "snippet": {
          "categoryId": "22",
          "channelId": "UCJQJAI7IjbLcpsjWdSzYz0Q",
          "channelTitle": "Thu Vu data analytics",
          "defaultAudioLanguage": "en-US",
          "defaultLanguage": "en-US",
          "description": "📩 Interested in hearing about my coming courses? 👉 https://forms.gle/u4h9fLmbxjQHHScb9\n📚 Glimpse into R data.table 👉 https://bookdown.org/brianjmpark/everydayR/interlude-i-a-brief-glimpse-into-data.html\n\nHi everyone 👋! In this video I demonstrated 40 tips to help you become more proficient in day-to-day data science tools such as Jupyter notebooks, VS Code, Python, R and RStudio, and Excel! It's definitely the longest video I have ever made and took me tons of time, but hopefully it will give you some useful tips, no matter if you are a novice or a seasoned data analyst/ data scientist.\n\nThank you for watching and have a great day! 🤗\n\n🔑 TIMESTAMPS\n================================\n\nTips for Jupyter notebooks:\n00:00 Intro\n00:48 Jupyter Notebooks\n00:50 - #1 Use JupyterLab/ VS Code (instead of Notebook)\n2:44 - #2 Useful shortcuts in notebooks\n7:44 - #3 Add an image to notebooks\n8:36 - #4 Move around quickly\n10:04 - #5 Multi-cursors\n11:16 - #6 Code completion\n11:41 - #7 Debugging in JupyterLab\n19:45 - #8 Magics\n23:07 - #9 Timeit magic\n24:40 - #10 Writing formulas in notebook cells\n\nTips for Python:\n25:46 - Python\n25:58 - #11 Chaining comparisons\n26:31 - #12 Using f-strings\n27:32 - #13 List comprehensions\n29:12 - #14 Creating Python virtual environments\n30:47 - #15 Creating and using requirements.txt file\n32:39 - #16 Python libraries for profiling reports\n33:38 - #17 Highlighting pandas tables\n35:17 - #18 Type hinting\n\nTips for Visual Studio Code:\n37:14 - VS Code\n37:30 - #19 Opening project folders VS Code\n39:07 - #20 Using code completion VS Code\n39:43 - #21 Useful shortcuts in VS Code\n42:32 - #22 Running Python scripts interactively in VS Code\n43:55 - #23 Debugging in VS Code\n\nTips for RStudio (sorry I accidentally had double #27 here 😅)\n46:07 - RStudio\n46:23 - #24 Shortcuts in RStudio\n47:11 - #25 Find function definition in RStudio\n48:48 - #26 Creating R projects\n50:08 - #27 Debugging in RStudio\n51:20 - #27 The most useful package in R 😉\n52:31 - #28 Data profiling in R\n54:16 - #29 Parallelizing code in R (doParallel package)\n\nTips for Excel:\n59:16 - Excel\n59:41 - #30 Customising status bar in Excel\n1:00:24 - #31 Using Analyze Data tool in Excel\n1:02:48 - #32 Using Excel table\n1:05:24 - #33 Creating slicers for Excel reports\n1:06:28 - #34 Keyboard shortcuts in Excel\n1:07:48 - #35 Typing headers quickly in Excel \n1:08:27 - #36 Doing statistical analyses in Excel\n1:09:52 - #37 Filling blank values in Excel\n1:10:43 - #38 Conditional formatting in Excel\n1:12:00 - #39 Recording custom Excel macros\n1:15:15 Conclusion\n\n👩🏻‍💻 COURSES & RESOURCES\n================================\n📖 Google Advanced Data Analytics Certificate 👉 https://imp.i384100.net/anK9zZ\n📖 Google Data Analytics Certificate 👉 https://imp.i384100.net/15v9y6\n📖 Learn SQL Basics for Data Science Specialization 👉 https://imp.i384100.net/AovPnJ\n📖 Excel Skills for Business 👉 https://coursera.pxf.io/doPaoy\n📖 Machine Learning Specialization 👉 https://imp.i384100.net/RyjykN\n📖 Data Visualization with Tableau Specialization 👉https://imp.i384100.net/n15XWR\n📖 Deep Learning Specialization 👉 https://imp.i384100.net/zavBA0\n📖 Mathematics for Machine Learning and Data Science Specialization 👉 https://imp.i384100.net/LXK0gj\n📖 Applied Data Science with Python 👉 https://imp.i384100.net/gbxOqv\n\n🙋🏻‍♀️ LET'S CONNECT!\n================================\n🤓 Join my Discord server: https://discord.gg/SK7ZC5XhcS\n📩  Newsletter: https://substack.com/profile/87689887-thu-vu\n✍ Medium: https://medium.com/@vuthihienthu.ueb\n🔗 All links: https://linktr.ee/thuvuanalytics\n\nAs a member of the Amazon and Coursera Affiliate Programs, I earn a commission from qualifying purchases on the links above. By using the links you help support this channel at no cost for you.\n\nEdited with Gling: https://gling.ai\n#python #datascience #productivity",
          "liveBroadcastContent": "none",
          "localized": {
           "description": "📩 Interested in hearing about my coming courses? 👉 https://forms.gle/u4h9fLmbxjQHHScb9\n📚 Glimpse into R data.table 👉 https://bookdown.org/brianjmpark/everydayR/interlude-i-a-brief-glimpse-into-data.html\n\nHi everyone 👋! In this video I demonstrated 40 tips to help you become more proficient in day-to-day data science tools such as Jupyter notebooks, VS Code, Python, R and RStudio, and Excel! It's definitely the longest video I have ever made and took me tons of time, but hopefully it will give you some useful tips, no matter if you are a novice or a seasoned data analyst/ data scientist.\n\nThank you for watching and have a great day! 🤗\n\n🔑 TIMESTAMPS\n================================\n\nTips for Jupyter notebooks:\n00:00 Intro\n00:48 Jupyter Notebooks\n00:50 - #1 Use JupyterLab/ VS Code (instead of Notebook)\n2:44 - #2 Useful shortcuts in notebooks\n7:44 - #3 Add an image to notebooks\n8:36 - #4 Move around quickly\n10:04 - #5 Multi-cursors\n11:16 - #6 Code completion\n11:41 - #7 Debugging in JupyterLab\n19:45 - #8 Magics\n23:07 - #9 Timeit magic\n24:40 - #10 Writing formulas in notebook cells\n\nTips for Python:\n25:46 - Python\n25:58 - #11 Chaining comparisons\n26:31 - #12 Using f-strings\n27:32 - #13 List comprehensions\n29:12 - #14 Creating Python virtual environments\n30:47 - #15 Creating and using requirements.txt file\n32:39 - #16 Python libraries for profiling reports\n33:38 - #17 Highlighting pandas tables\n35:17 - #18 Type hinting\n\nTips for Visual Studio Code:\n37:14 - VS Code\n37:30 - #19 Opening project folders VS Code\n39:07 - #20 Using code completion VS Code\n39:43 - #21 Useful shortcuts in VS Code\n42:32 - #22 Running Python scripts interactively in VS Code\n43:55 - #23 Debugging in VS Code\n\nTips for RStudio (sorry I accidentally had double #27 here 😅)\n46:07 - RStudio\n46:23 - #24 Shortcuts in RStudio\n47:11 - #25 Find function definition in RStudio\n48:48 - #26 Creating R projects\n50:08 - #27 Debugging in RStudio\n51:20 - #27 The most useful package in R 😉\n52:31 - #28 Data profiling in R\n54:16 - #29 Parallelizing code in R (doParallel package)\n\nTips for Excel:\n59:16 - Excel\n59:41 - #30 Customising status bar in Excel\n1:00:24 - #31 Using Analyze Data tool in Excel\n1:02:48 - #32 Using Excel table\n1:05:24 - #33 Creating slicers for Excel reports\n1:06:28 - #34 Keyboard shortcuts in Excel\n1:07:48 - #35 Typing headers quickly in Excel \n1:08:27 - #36 Doing statistical analyses in Excel\n1:09:52 - #37 Filling blank values in Excel\n1:10:43 - #38 Conditional formatting in Excel\n1:12:00 - #39 Recording custom Excel macros\n1:15:15 Conclusion\n\n👩🏻‍💻 COURSES & RESOURCES\n================================\n📖 Google Advanced Data Analytics Certificate 👉 https://imp.i384100.net/anK9zZ\n📖 Google Data Analytics Certificate 👉 https://imp.i384100.net/15v9y6\n📖 Learn SQL Basics for Data Science Specialization 👉 https://imp.i384100.net/AovPnJ\n📖 Excel Skills for Business 👉 https://coursera.pxf.io/doPaoy\n📖 Machine Learning Specialization 👉 https://imp.i384100.net/RyjykN\n📖 Data Visualization with Tableau Specialization 👉https://imp.i384100.net/n15XWR\n📖 Deep Learning Specialization 👉 https://imp.i384100.net/zavBA0\n📖 Mathematics for Machine Learning and Data Science Specialization 👉 https://imp.i384100.net/LXK0gj\n📖 Applied Data Science with Python 👉 https://imp.i384100.net/gbxOqv\n\n🙋🏻‍♀️ LET'S CONNECT!\n================================\n🤓 Join my Discord server: https://discord.gg/SK7ZC5XhcS\n📩  Newsletter: https://substack.com/profile/87689887-thu-vu\n✍ Medium: https://medium.com/@vuthihienthu.ueb\n🔗 All links: https://linktr.ee/thuvuanalytics\n\nAs a member of the Amazon and Coursera Affiliate Programs, I earn a commission from qualifying purchases on the links above. By using the links you help support this channel at no cost for you.\n\nEdited with Gling: https://gling.ai\n#python #datascience #productivity",
           "title": "40 Productivity Tips that Make You More Pro in Data science 😉"
          },
          "publishedAt": "2023-07-08T09:45:30Z",
          "tags": [
           "data analytics",
           "data science",
           "python",
           "data",
           "tableau",
           "bi",
           "programming",
           "technology",
           "coding",
           "data visualization",
           "python tutorial",
           "data analyst",
           "data scientist",
           "data analysis",
           "power bi",
           "python data anlysis",
           "data nerd",
           "big data",
           "learn to code",
           "business intelligence",
           "how to use r",
           "r data analysis",
           "vscode"
          ],
          "thumbnails": {
           "default": {
            "height": 90,
            "url": "https://i.ytimg.com/vi/3736Pd_hwFQ/default.jpg",
            "width": 120
           },
           "high": {
            "height": 360,
            "url": "https://i.ytimg.com/vi/3736Pd_hwFQ/hqdefault.jpg",
            "width": 480
           },
           "maxres": {
            "height": 720,
            "url": "https://i.ytimg.com/vi/3736Pd_hwFQ/maxresdefault.jpg",
            "width": 1280
           },
           "medium": {
            "height": 180,
            "url": "https://i.ytimg.com/vi/3736Pd_hwFQ/mqdefault.jpg",
            "width": 320
           },
           "standard": {
            "height": 480,
            "url": "https://i.ytimg.com/vi/3736Pd_hwFQ/sddefault.jpg",
            "width": 640
           }
          },
          "title": "40 Productivity Tips that Make You More Pro in Data science 😉"
         },
         "statistics": {
          "commentCount": "59",
          "favoriteCount": "0",
          "likeCount": "606",
          "viewCount": "11458"
         }
        },
        {
         "contentDetails": {
          "caption": "false",
          "contentRating": {},
          "definition": "hd",
          "dimension": "2d",
          "duration": "PT16M32S",
          "licensedContent": true,
          "projection": "rectangular"
         },
         "etag": "I2hdAAQDHG4JTzet3Gjhom6QJRo",
         "id": "PvnSSrnjLX8",
         "kind": "youtube#video",
         "snippet": {
          "categoryId": "22",
          "channelId": "UCJQJAI7IjbLcpsjWdSzYz0Q",
          "channelTitle": "Thu Vu data analytics",
          "defaultAudioLanguage": "en-US",
          "defaultLanguage": "en-US",
          "description": "📊 Enroll with this link to get 10% off the Data Analytics Program (CareerFoundry) until the end of the year!  https://bit.ly/442qq8H\n📞 Not sure whether a career in Data Analytics is the right choice for you? Book a call with a\nProgram Advisor to get their personalized advice: https://bit.ly/3p6s0aO\n🖥 Want to know what it's like to be a Data Analyst? Check out CareerFoundry's free short course! https://bit.ly/3CuKODQ\n\n🔑 TIMESTAMPS\n================================\n0:00 - Intro\n1:17 - What is CareerFoundry\n1:42 - Overview of program structure\n3:02 - Job guarantees\n4:23 - Mentorship\n5:59 - Detailed curriculum\n8:05 - Learning portal and course walkthrough\n10:47 - What I like and don't like\n12:45 - Price\n15:18 - Who I'd recommend this course to\n\n🙋🏻‍♀️ LET'S CONNECT!\n================================\n🤓 Join my Discord server: https://discord.gg/SK7ZC5XhcS\n📩  Newsletter: https://substack.com/profile/87689887-thu-vu\n✍ Medium: https://medium.com/@vuthihienthu.ueb\n🔗 All links: https://linktr.ee/thuvuanalytics\n\nAs a member of the Amazon and Coursera Affiliate Programs, I earn a commission from qualifying purchases on the links above. By using the links you help support this channel at no cost for you.\n\nEdited with Gling: https://gling.ai\n#datanalytics #datascience #ThuVu",
          "liveBroadcastContent": "none",
          "localized": {
           "description": "📊 Enroll with this link to get 10% off the Data Analytics Program (CareerFoundry) until the end of the year!  https://bit.ly/442qq8H\n📞 Not sure whether a career in Data Analytics is the right choice for you? Book a call with a\nProgram Advisor to get their personalized advice: https://bit.ly/3p6s0aO\n🖥 Want to know what it's like to be a Data Analyst? Check out CareerFoundry's free short course! https://bit.ly/3CuKODQ\n\n🔑 TIMESTAMPS\n================================\n0:00 - Intro\n1:17 - What is CareerFoundry\n1:42 - Overview of program structure\n3:02 - Job guarantees\n4:23 - Mentorship\n5:59 - Detailed curriculum\n8:05 - Learning portal and course walkthrough\n10:47 - What I like and don't like\n12:45 - Price\n15:18 - Who I'd recommend this course to\n\n🙋🏻‍♀️ LET'S CONNECT!\n================================\n🤓 Join my Discord server: https://discord.gg/SK7ZC5XhcS\n📩  Newsletter: https://substack.com/profile/87689887-thu-vu\n✍ Medium: https://medium.com/@vuthihienthu.ueb\n🔗 All links: https://linktr.ee/thuvuanalytics\n\nAs a member of the Amazon and Coursera Affiliate Programs, I earn a commission from qualifying purchases on the links above. By using the links you help support this channel at no cost for you.\n\nEdited with Gling: https://gling.ai\n#datanalytics #datascience #ThuVu",
           "title": "Self-taught vs. Guided Program: CareerFoundry's Data Analytics Program Review"
          },
          "publishedAt": "2023-06-16T22:57:31Z",
          "tags": [
           "data analytics",
           "data science",
           "python",
           "data",
           "tableau",
           "bi",
           "programming",
           "technology",
           "coding",
           "data visualization",
           "python tutorial",
           "data analyst",
           "data scientist",
           "data analysis",
           "power bi",
           "python data anlysis",
           "data nerd",
           "big data",
           "learn to code",
           "business intelligence",
           "how to use r",
           "r data analysis",
           "vscode"
          ],
          "thumbnails": {
           "default": {
            "height": 90,
            "url": "https://i.ytimg.com/vi/PvnSSrnjLX8/default.jpg",
            "width": 120
           },
           "high": {
            "height": 360,
            "url": "https://i.ytimg.com/vi/PvnSSrnjLX8/hqdefault.jpg",
            "width": 480
           },
           "maxres": {
            "height": 720,
            "url": "https://i.ytimg.com/vi/PvnSSrnjLX8/maxresdefault.jpg",
            "width": 1280
           },
           "medium": {
            "height": 180,
            "url": "https://i.ytimg.com/vi/PvnSSrnjLX8/mqdefault.jpg",
            "width": 320
           },
           "standard": {
            "height": 480,
            "url": "https://i.ytimg.com/vi/PvnSSrnjLX8/sddefault.jpg",
            "width": 640
           }
          },
          "title": "Self-taught vs. Guided Program: CareerFoundry's Data Analytics Program Review"
         },
         "statistics": {
          "commentCount": "33",
          "favoriteCount": "0",
          "likeCount": "206",
          "viewCount": "6648"
         }
        },
        {
         "contentDetails": {
          "caption": "false",
          "contentRating": {},
          "definition": "hd",
          "dimension": "2d",
          "duration": "PT11M8S",
          "licensedContent": true,
          "projection": "rectangular"
         },
         "etag": "C0m7h6z1oPt0RS_gdcl7f1-TRpE",
         "id": "S5U76LPu_bQ",
         "kind": "youtube#video",
         "snippet": {
          "categoryId": "22",
          "channelId": "UCJQJAI7IjbLcpsjWdSzYz0Q",
          "channelTitle": "Thu Vu data analytics",
          "defaultAudioLanguage": "en-US",
          "defaultLanguage": "en-US",
          "description": "I've been thinking lately if it's still worth it to pursue my Computer Science degree, given that AI is changing our jobs and lives at a neckbreaking speed. Hope this video is helpful for some of you who are asking yourselves the same question! Thank you for watching 😇.\n\n👩🏻‍💻 COURSES & RESOURCES\n================================\n📖 Google Advanced Data Analytics Certificate 👉 https://imp.i384100.net/anK9zZ\n📖 Google Data Analytics Certificate 👉 https://imp.i384100.net/15v9y6\n📖 Learn SQL Basics for Data Science Specialization 👉 https://imp.i384100.net/AovPnJ\n📖 Excel Skills for Business 👉 https://coursera.pxf.io/doPaoy\n📖 Machine Learning Specialization 👉 https://imp.i384100.net/RyjykN\n📖 Data Visualization with Tableau Specialization 👉https://imp.i384100.net/n15XWR\n📖 Deep Learning Specialization 👉 https://imp.i384100.net/zavBA0\n📖 Mathematics for Machine Learning and Data Science Specialization 👉 https://imp.i384100.net/LXK0gj\n📖 Applied Data Science with Python 👉 https://imp.i384100.net/gbxOqv\n\n🙋🏻‍♀️ LET'S CONNECT!\n================================\n🤓 Join my Discord server: https://discord.gg/SK7ZC5XhcS\n📩  Newsletter: https://substack.com/profile/87689887-thu-vu\n✍ Medium: https://medium.com/@vuthihienthu.ueb\n🔗 All links: https://linktr.ee/thuvuanalytics\n\nAs a member of the Amazon and Coursera Affiliate Programs, I earn a commission from qualifying purchases on the links above. By using the links you help support this channel at no cost for you.\n\nEdited with Gling: https://gling.ai\n#computerscience #ai #ThuVu #dataanalytics",
          "liveBroadcastContent": "none",
          "localized": {
           "description": "I've been thinking lately if it's still worth it to pursue my Computer Science degree, given that AI is changing our jobs and lives at a neckbreaking speed. Hope this video is helpful for some of you who are asking yourselves the same question! Thank you for watching 😇.\n\n👩🏻‍💻 COURSES & RESOURCES\n================================\n📖 Google Advanced Data Analytics Certificate 👉 https://imp.i384100.net/anK9zZ\n📖 Google Data Analytics Certificate 👉 https://imp.i384100.net/15v9y6\n📖 Learn SQL Basics for Data Science Specialization 👉 https://imp.i384100.net/AovPnJ\n📖 Excel Skills for Business 👉 https://coursera.pxf.io/doPaoy\n📖 Machine Learning Specialization 👉 https://imp.i384100.net/RyjykN\n📖 Data Visualization with Tableau Specialization 👉https://imp.i384100.net/n15XWR\n📖 Deep Learning Specialization 👉 https://imp.i384100.net/zavBA0\n📖 Mathematics for Machine Learning and Data Science Specialization 👉 https://imp.i384100.net/LXK0gj\n📖 Applied Data Science with Python 👉 https://imp.i384100.net/gbxOqv\n\n🙋🏻‍♀️ LET'S CONNECT!\n================================\n🤓 Join my Discord server: https://discord.gg/SK7ZC5XhcS\n📩  Newsletter: https://substack.com/profile/87689887-thu-vu\n✍ Medium: https://medium.com/@vuthihienthu.ueb\n🔗 All links: https://linktr.ee/thuvuanalytics\n\nAs a member of the Amazon and Coursera Affiliate Programs, I earn a commission from qualifying purchases on the links above. By using the links you help support this channel at no cost for you.\n\nEdited with Gling: https://gling.ai\n#computerscience #ai #ThuVu #dataanalytics",
           "title": "Is a Computer Science Degree WORTHLESS 🤯? (in the age of AI)"
          },
          "publishedAt": "2023-06-08T16:10:11Z",
          "tags": [
           "data analytics",
           "data science",
           "python",
           "data",
           "tableau",
           "bi",
           "programming",
           "technology",
           "coding",
           "data visualization",
           "python tutorial",
           "data analyst",
           "data scientist",
           "data analysis",
           "power bi",
           "python data anlysis",
           "data nerd",
           "big data",
           "learn to code",
           "business intelligence",
           "how to use r",
           "r data analysis",
           "vscode"
          ],
          "thumbnails": {
           "default": {
            "height": 90,
            "url": "https://i.ytimg.com/vi/S5U76LPu_bQ/default.jpg",
            "width": 120
           },
           "high": {
            "height": 360,
            "url": "https://i.ytimg.com/vi/S5U76LPu_bQ/hqdefault.jpg",
            "width": 480
           },
           "maxres": {
            "height": 720,
            "url": "https://i.ytimg.com/vi/S5U76LPu_bQ/maxresdefault.jpg",
            "width": 1280
           },
           "medium": {
            "height": 180,
            "url": "https://i.ytimg.com/vi/S5U76LPu_bQ/mqdefault.jpg",
            "width": 320
           },
           "standard": {
            "height": 480,
            "url": "https://i.ytimg.com/vi/S5U76LPu_bQ/sddefault.jpg",
            "width": 640
           }
          },
          "title": "Is a Computer Science Degree WORTHLESS 🤯? (in the age of AI)"
         },
         "statistics": {
          "commentCount": "52",
          "favoriteCount": "0",
          "likeCount": "613",
          "viewCount": "16630"
         }
        }
       ],
       "kind": "youtube#videoListResponse",
       "pageInfo": {
        "resultsPerPage": 5,
        "totalResults": 5
       }
      },
      "text/plain": [
       "<IPython.core.display.JSON object>"
      ]
     },
     "execution_count": 12,
     "metadata": {
      "application/json": {
       "expanded": false,
       "root": "root"
      }
     },
     "output_type": "execute_result"
    }
   ],
   "source": [
    "request = youtube.videos().list(\n",
    "    part=\"snippet,contentDetails,statistics\",\n",
    "    id=video_ids[0:5]\n",
    ")\n",
    "response = request.execute()\n",
    "\n",
    "JSON(response)"
   ]
  },
  {
   "cell_type": "code",
   "execution_count": 13,
   "id": "0dc488db-b328-4ca4-99dc-ce92481ccfaf",
   "metadata": {
    "tags": []
   },
   "outputs": [],
   "source": [
    "video_df = get_video_details(youtube, video_ids)"
   ]
  },
  {
   "cell_type": "code",
   "execution_count": 14,
   "id": "5b9126d7-7bb8-441e-969e-ddd171ce4420",
   "metadata": {
    "tags": []
   },
   "outputs": [
    {
     "data": {
      "text/html": [
       "<div>\n",
       "<style scoped>\n",
       "    .dataframe tbody tr th:only-of-type {\n",
       "        vertical-align: middle;\n",
       "    }\n",
       "\n",
       "    .dataframe tbody tr th {\n",
       "        vertical-align: top;\n",
       "    }\n",
       "\n",
       "    .dataframe thead th {\n",
       "        text-align: right;\n",
       "    }\n",
       "</style>\n",
       "<table border=\"1\" class=\"dataframe\">\n",
       "  <thead>\n",
       "    <tr style=\"text-align: right;\">\n",
       "      <th></th>\n",
       "      <th>video_id</th>\n",
       "      <th>channelTitle</th>\n",
       "      <th>title</th>\n",
       "      <th>description</th>\n",
       "      <th>tags</th>\n",
       "      <th>publishedAt</th>\n",
       "      <th>viewCount</th>\n",
       "      <th>likeCount</th>\n",
       "      <th>favouriteCount</th>\n",
       "      <th>commentCount</th>\n",
       "      <th>duration</th>\n",
       "      <th>definition</th>\n",
       "      <th>caption</th>\n",
       "    </tr>\n",
       "  </thead>\n",
       "  <tbody>\n",
       "    <tr>\n",
       "      <th>0</th>\n",
       "      <td>EzVIkHQWnhc</td>\n",
       "      <td>Thu Vu data analytics</td>\n",
       "      <td>How to Handle Sensitive Data in Data Science (...</td>\n",
       "      <td>🏆 Check out Antigranular competition &amp; win cas...</td>\n",
       "      <td>[data analytics, data science, python, data, t...</td>\n",
       "      <td>2023-08-22T00:29:27Z</td>\n",
       "      <td>3959</td>\n",
       "      <td>223</td>\n",
       "      <td>None</td>\n",
       "      <td>22</td>\n",
       "      <td>PT12M19S</td>\n",
       "      <td>hd</td>\n",
       "      <td>false</td>\n",
       "    </tr>\n",
       "    <tr>\n",
       "      <th>1</th>\n",
       "      <td>8sLq4P-QDL0</td>\n",
       "      <td>Thu Vu data analytics</td>\n",
       "      <td>I Tried ChatGPT Code Interpreter for Data Task...</td>\n",
       "      <td>I tell ChatGPT Code Interpreter to do my job 😅...</td>\n",
       "      <td>[data analytics, data science, python, data, t...</td>\n",
       "      <td>2023-07-15T19:02:17Z</td>\n",
       "      <td>32191</td>\n",
       "      <td>1478</td>\n",
       "      <td>None</td>\n",
       "      <td>50</td>\n",
       "      <td>PT58S</td>\n",
       "      <td>hd</td>\n",
       "      <td>false</td>\n",
       "    </tr>\n",
       "    <tr>\n",
       "      <th>2</th>\n",
       "      <td>3736Pd_hwFQ</td>\n",
       "      <td>Thu Vu data analytics</td>\n",
       "      <td>40 Productivity Tips that Make You More Pro in...</td>\n",
       "      <td>📩 Interested in hearing about my coming course...</td>\n",
       "      <td>[data analytics, data science, python, data, t...</td>\n",
       "      <td>2023-07-08T09:45:30Z</td>\n",
       "      <td>11458</td>\n",
       "      <td>606</td>\n",
       "      <td>None</td>\n",
       "      <td>59</td>\n",
       "      <td>PT1H16M9S</td>\n",
       "      <td>hd</td>\n",
       "      <td>false</td>\n",
       "    </tr>\n",
       "    <tr>\n",
       "      <th>3</th>\n",
       "      <td>PvnSSrnjLX8</td>\n",
       "      <td>Thu Vu data analytics</td>\n",
       "      <td>Self-taught vs. Guided Program: CareerFoundry'...</td>\n",
       "      <td>📊 Enroll with this link to get 10% off the Dat...</td>\n",
       "      <td>[data analytics, data science, python, data, t...</td>\n",
       "      <td>2023-06-16T22:57:31Z</td>\n",
       "      <td>6648</td>\n",
       "      <td>206</td>\n",
       "      <td>None</td>\n",
       "      <td>33</td>\n",
       "      <td>PT16M32S</td>\n",
       "      <td>hd</td>\n",
       "      <td>false</td>\n",
       "    </tr>\n",
       "    <tr>\n",
       "      <th>4</th>\n",
       "      <td>S5U76LPu_bQ</td>\n",
       "      <td>Thu Vu data analytics</td>\n",
       "      <td>Is a Computer Science Degree WORTHLESS 🤯? (in ...</td>\n",
       "      <td>I've been thinking lately if it's still worth ...</td>\n",
       "      <td>[data analytics, data science, python, data, t...</td>\n",
       "      <td>2023-06-08T16:10:11Z</td>\n",
       "      <td>16630</td>\n",
       "      <td>613</td>\n",
       "      <td>None</td>\n",
       "      <td>52</td>\n",
       "      <td>PT11M8S</td>\n",
       "      <td>hd</td>\n",
       "      <td>false</td>\n",
       "    </tr>\n",
       "    <tr>\n",
       "      <th>...</th>\n",
       "      <td>...</td>\n",
       "      <td>...</td>\n",
       "      <td>...</td>\n",
       "      <td>...</td>\n",
       "      <td>...</td>\n",
       "      <td>...</td>\n",
       "      <td>...</td>\n",
       "      <td>...</td>\n",
       "      <td>...</td>\n",
       "      <td>...</td>\n",
       "      <td>...</td>\n",
       "      <td>...</td>\n",
       "      <td>...</td>\n",
       "    </tr>\n",
       "    <tr>\n",
       "      <th>69</th>\n",
       "      <td>5LWoJAh-kww</td>\n",
       "      <td>Thu Vu data analytics</td>\n",
       "      <td>Data Analyst Skill Stack // How I Became A Dat...</td>\n",
       "      <td>👩🏻‍💻 My laptop and iPad for doing DS/ study 👉 ...</td>\n",
       "      <td>None</td>\n",
       "      <td>2021-06-16T10:16:47Z</td>\n",
       "      <td>31948</td>\n",
       "      <td>1772</td>\n",
       "      <td>None</td>\n",
       "      <td>72</td>\n",
       "      <td>PT10M35S</td>\n",
       "      <td>hd</td>\n",
       "      <td>false</td>\n",
       "    </tr>\n",
       "    <tr>\n",
       "      <th>70</th>\n",
       "      <td>_RzoHVWKwq4</td>\n",
       "      <td>Thu Vu data analytics</td>\n",
       "      <td>Effective visual note-taking on iPad + Downloa...</td>\n",
       "      <td>Hi there! In this video I’m showing you how to...</td>\n",
       "      <td>[Note-taking, Study, iPad Pro, Visual note-tak...</td>\n",
       "      <td>2021-06-09T06:58:21Z</td>\n",
       "      <td>9235</td>\n",
       "      <td>334</td>\n",
       "      <td>None</td>\n",
       "      <td>10</td>\n",
       "      <td>PT8M19S</td>\n",
       "      <td>hd</td>\n",
       "      <td>false</td>\n",
       "    </tr>\n",
       "    <tr>\n",
       "      <th>71</th>\n",
       "      <td>hWKLO7GtpiU</td>\n",
       "      <td>Thu Vu data analytics</td>\n",
       "      <td>Data scientist is NOT the only SEXY job // All...</td>\n",
       "      <td>Hi there! In this video I explain different da...</td>\n",
       "      <td>None</td>\n",
       "      <td>2021-06-01T22:51:42Z</td>\n",
       "      <td>8355</td>\n",
       "      <td>284</td>\n",
       "      <td>None</td>\n",
       "      <td>20</td>\n",
       "      <td>PT14M4S</td>\n",
       "      <td>hd</td>\n",
       "      <td>false</td>\n",
       "    </tr>\n",
       "    <tr>\n",
       "      <th>72</th>\n",
       "      <td>dBZqggW22rs</td>\n",
       "      <td>Thu Vu data analytics</td>\n",
       "      <td>How I take notes on iPad Pro | Notion, Notes, ...</td>\n",
       "      <td>My note-taking system tour in Notion and tips ...</td>\n",
       "      <td>[Notes, Study, Productivity, Notion, Procreate...</td>\n",
       "      <td>2021-05-16T22:47:12Z</td>\n",
       "      <td>9608</td>\n",
       "      <td>246</td>\n",
       "      <td>None</td>\n",
       "      <td>18</td>\n",
       "      <td>PT9M7S</td>\n",
       "      <td>hd</td>\n",
       "      <td>false</td>\n",
       "    </tr>\n",
       "    <tr>\n",
       "      <th>73</th>\n",
       "      <td>QDdqsFCIxIk</td>\n",
       "      <td>Thu Vu data analytics</td>\n",
       "      <td>How to stay focused and productive online with...</td>\n",
       "      <td>Hello Youtube! This is my first ever Youtube v...</td>\n",
       "      <td>[Productivity, digital skills, computer]</td>\n",
       "      <td>2021-04-30T16:03:53Z</td>\n",
       "      <td>4145</td>\n",
       "      <td>154</td>\n",
       "      <td>None</td>\n",
       "      <td>15</td>\n",
       "      <td>PT4M34S</td>\n",
       "      <td>hd</td>\n",
       "      <td>false</td>\n",
       "    </tr>\n",
       "  </tbody>\n",
       "</table>\n",
       "<p>74 rows × 13 columns</p>\n",
       "</div>"
      ],
      "text/plain": [
       "       video_id           channelTitle  \\\n",
       "0   EzVIkHQWnhc  Thu Vu data analytics   \n",
       "1   8sLq4P-QDL0  Thu Vu data analytics   \n",
       "2   3736Pd_hwFQ  Thu Vu data analytics   \n",
       "3   PvnSSrnjLX8  Thu Vu data analytics   \n",
       "4   S5U76LPu_bQ  Thu Vu data analytics   \n",
       "..          ...                    ...   \n",
       "69  5LWoJAh-kww  Thu Vu data analytics   \n",
       "70  _RzoHVWKwq4  Thu Vu data analytics   \n",
       "71  hWKLO7GtpiU  Thu Vu data analytics   \n",
       "72  dBZqggW22rs  Thu Vu data analytics   \n",
       "73  QDdqsFCIxIk  Thu Vu data analytics   \n",
       "\n",
       "                                                title  \\\n",
       "0   How to Handle Sensitive Data in Data Science (...   \n",
       "1   I Tried ChatGPT Code Interpreter for Data Task...   \n",
       "2   40 Productivity Tips that Make You More Pro in...   \n",
       "3   Self-taught vs. Guided Program: CareerFoundry'...   \n",
       "4   Is a Computer Science Degree WORTHLESS 🤯? (in ...   \n",
       "..                                                ...   \n",
       "69  Data Analyst Skill Stack // How I Became A Dat...   \n",
       "70  Effective visual note-taking on iPad + Downloa...   \n",
       "71  Data scientist is NOT the only SEXY job // All...   \n",
       "72  How I take notes on iPad Pro | Notion, Notes, ...   \n",
       "73  How to stay focused and productive online with...   \n",
       "\n",
       "                                          description  \\\n",
       "0   🏆 Check out Antigranular competition & win cas...   \n",
       "1   I tell ChatGPT Code Interpreter to do my job 😅...   \n",
       "2   📩 Interested in hearing about my coming course...   \n",
       "3   📊 Enroll with this link to get 10% off the Dat...   \n",
       "4   I've been thinking lately if it's still worth ...   \n",
       "..                                                ...   \n",
       "69  👩🏻‍💻 My laptop and iPad for doing DS/ study 👉 ...   \n",
       "70  Hi there! In this video I’m showing you how to...   \n",
       "71  Hi there! In this video I explain different da...   \n",
       "72  My note-taking system tour in Notion and tips ...   \n",
       "73  Hello Youtube! This is my first ever Youtube v...   \n",
       "\n",
       "                                                 tags           publishedAt  \\\n",
       "0   [data analytics, data science, python, data, t...  2023-08-22T00:29:27Z   \n",
       "1   [data analytics, data science, python, data, t...  2023-07-15T19:02:17Z   \n",
       "2   [data analytics, data science, python, data, t...  2023-07-08T09:45:30Z   \n",
       "3   [data analytics, data science, python, data, t...  2023-06-16T22:57:31Z   \n",
       "4   [data analytics, data science, python, data, t...  2023-06-08T16:10:11Z   \n",
       "..                                                ...                   ...   \n",
       "69                                               None  2021-06-16T10:16:47Z   \n",
       "70  [Note-taking, Study, iPad Pro, Visual note-tak...  2021-06-09T06:58:21Z   \n",
       "71                                               None  2021-06-01T22:51:42Z   \n",
       "72  [Notes, Study, Productivity, Notion, Procreate...  2021-05-16T22:47:12Z   \n",
       "73           [Productivity, digital skills, computer]  2021-04-30T16:03:53Z   \n",
       "\n",
       "   viewCount likeCount favouriteCount commentCount   duration definition  \\\n",
       "0       3959       223           None           22   PT12M19S         hd   \n",
       "1      32191      1478           None           50      PT58S         hd   \n",
       "2      11458       606           None           59  PT1H16M9S         hd   \n",
       "3       6648       206           None           33   PT16M32S         hd   \n",
       "4      16630       613           None           52    PT11M8S         hd   \n",
       "..       ...       ...            ...          ...        ...        ...   \n",
       "69     31948      1772           None           72   PT10M35S         hd   \n",
       "70      9235       334           None           10    PT8M19S         hd   \n",
       "71      8355       284           None           20    PT14M4S         hd   \n",
       "72      9608       246           None           18     PT9M7S         hd   \n",
       "73      4145       154           None           15    PT4M34S         hd   \n",
       "\n",
       "   caption  \n",
       "0    false  \n",
       "1    false  \n",
       "2    false  \n",
       "3    false  \n",
       "4    false  \n",
       "..     ...  \n",
       "69   false  \n",
       "70   false  \n",
       "71   false  \n",
       "72   false  \n",
       "73   false  \n",
       "\n",
       "[74 rows x 13 columns]"
      ]
     },
     "execution_count": 14,
     "metadata": {},
     "output_type": "execute_result"
    }
   ],
   "source": [
    "video_df"
   ]
  },
  {
   "cell_type": "code",
   "execution_count": 15,
   "id": "b84ef903-347e-4212-81f4-f8881b9971d2",
   "metadata": {
    "tags": []
   },
   "outputs": [],
   "source": [
    "channel_ids = ['UCJQJAI7IjbLcpsjWdSzYz0Q', # Thu Vu Data Analytics\n",
    "               'UCCezIgC97PvUuR4_gbFUs5g', # Corey Schafer\n",
    "               'UCfzlCWGWYyIQ0aLC5w48gBQ', # Sentdex\n",
    "               'UCtYLUTtgS3k1Fg4y5tAhLbw' # Statquest\n",
    "               #more channels here\n",
    "              ]"
   ]
  },
  {
   "cell_type": "code",
   "execution_count": 16,
   "id": "acd7ff47-e56f-4a90-b474-3b88a216fa0c",
   "metadata": {
    "tags": []
   },
   "outputs": [],
   "source": [
    "channel_data = get_channel_stats(youtube, channel_ids)"
   ]
  },
  {
   "cell_type": "code",
   "execution_count": 17,
   "id": "aebc6ac2-fe75-4876-bd7d-daf4cd84e217",
   "metadata": {
    "tags": []
   },
   "outputs": [
    {
     "data": {
      "text/html": [
       "<div>\n",
       "<style scoped>\n",
       "    .dataframe tbody tr th:only-of-type {\n",
       "        vertical-align: middle;\n",
       "    }\n",
       "\n",
       "    .dataframe tbody tr th {\n",
       "        vertical-align: top;\n",
       "    }\n",
       "\n",
       "    .dataframe thead th {\n",
       "        text-align: right;\n",
       "    }\n",
       "</style>\n",
       "<table border=\"1\" class=\"dataframe\">\n",
       "  <thead>\n",
       "    <tr style=\"text-align: right;\">\n",
       "      <th></th>\n",
       "      <th>channelName</th>\n",
       "      <th>subscribers</th>\n",
       "      <th>views</th>\n",
       "      <th>totalVideos</th>\n",
       "      <th>playlistId</th>\n",
       "    </tr>\n",
       "  </thead>\n",
       "  <tbody>\n",
       "    <tr>\n",
       "      <th>0</th>\n",
       "      <td>StatQuest with Josh Starmer</td>\n",
       "      <td>998000</td>\n",
       "      <td>53268099</td>\n",
       "      <td>263</td>\n",
       "      <td>UUtYLUTtgS3k1Fg4y5tAhLbw</td>\n",
       "    </tr>\n",
       "    <tr>\n",
       "      <th>1</th>\n",
       "      <td>sentdex</td>\n",
       "      <td>1270000</td>\n",
       "      <td>111618352</td>\n",
       "      <td>1248</td>\n",
       "      <td>UUfzlCWGWYyIQ0aLC5w48gBQ</td>\n",
       "    </tr>\n",
       "    <tr>\n",
       "      <th>2</th>\n",
       "      <td>Thu Vu data analytics</td>\n",
       "      <td>166000</td>\n",
       "      <td>5353692</td>\n",
       "      <td>74</td>\n",
       "      <td>UUJQJAI7IjbLcpsjWdSzYz0Q</td>\n",
       "    </tr>\n",
       "    <tr>\n",
       "      <th>3</th>\n",
       "      <td>Corey Schafer</td>\n",
       "      <td>1200000</td>\n",
       "      <td>88881156</td>\n",
       "      <td>232</td>\n",
       "      <td>UUCezIgC97PvUuR4_gbFUs5g</td>\n",
       "    </tr>\n",
       "  </tbody>\n",
       "</table>\n",
       "</div>"
      ],
      "text/plain": [
       "                   channelName subscribers      views totalVideos  \\\n",
       "0  StatQuest with Josh Starmer      998000   53268099         263   \n",
       "1                      sentdex     1270000  111618352        1248   \n",
       "2        Thu Vu data analytics      166000    5353692          74   \n",
       "3                Corey Schafer     1200000   88881156         232   \n",
       "\n",
       "                 playlistId  \n",
       "0  UUtYLUTtgS3k1Fg4y5tAhLbw  \n",
       "1  UUfzlCWGWYyIQ0aLC5w48gBQ  \n",
       "2  UUJQJAI7IjbLcpsjWdSzYz0Q  \n",
       "3  UUCezIgC97PvUuR4_gbFUs5g  "
      ]
     },
     "execution_count": 17,
     "metadata": {},
     "output_type": "execute_result"
    }
   ],
   "source": [
    "channel_data"
   ]
  },
  {
   "cell_type": "code",
   "execution_count": 18,
   "id": "c8f026e3-2b00-4735-b0fb-f3a3de612320",
   "metadata": {
    "tags": []
   },
   "outputs": [],
   "source": [
    "# Convert count columns to numeric columns\n",
    "numeric_cols = ['subscribers', 'views', 'totalVideos']\n",
    "channel_data[numeric_cols] = channel_data[numeric_cols].apply(pd.to_numeric, errors='coerce')"
   ]
  },
  {
   "cell_type": "code",
   "execution_count": 19,
   "id": "c8e1b37f-82b6-4040-b442-b808e257c825",
   "metadata": {
    "tags": []
   },
   "outputs": [
    {
     "name": "stdout",
     "output_type": "stream",
     "text": [
      "Getting video information from channel: StatQuest with Josh Starmer\n"
     ]
    },
    {
     "name": "stderr",
     "output_type": "stream",
     "text": [
      "C:\\Users\\Asus\\AppData\\Local\\Temp\\ipykernel_8720\\3395687423.py:15: FutureWarning: The frame.append method is deprecated and will be removed from pandas in a future version. Use pandas.concat instead.\n",
      "  video_df = video_df.append(video_data, ignore_index=True)\n"
     ]
    },
    {
     "name": "stdout",
     "output_type": "stream",
     "text": [
      "Getting video information from channel: sentdex\n"
     ]
    },
    {
     "name": "stderr",
     "output_type": "stream",
     "text": [
      "C:\\Users\\Asus\\AppData\\Local\\Temp\\ipykernel_8720\\3395687423.py:15: FutureWarning: The frame.append method is deprecated and will be removed from pandas in a future version. Use pandas.concat instead.\n",
      "  video_df = video_df.append(video_data, ignore_index=True)\n"
     ]
    },
    {
     "name": "stdout",
     "output_type": "stream",
     "text": [
      "Getting video information from channel: Thu Vu data analytics\n"
     ]
    },
    {
     "name": "stderr",
     "output_type": "stream",
     "text": [
      "C:\\Users\\Asus\\AppData\\Local\\Temp\\ipykernel_8720\\3395687423.py:15: FutureWarning: The frame.append method is deprecated and will be removed from pandas in a future version. Use pandas.concat instead.\n",
      "  video_df = video_df.append(video_data, ignore_index=True)\n"
     ]
    },
    {
     "name": "stdout",
     "output_type": "stream",
     "text": [
      "Getting video information from channel: Corey Schafer\n"
     ]
    },
    {
     "name": "stderr",
     "output_type": "stream",
     "text": [
      "C:\\Users\\Asus\\AppData\\Local\\Temp\\ipykernel_8720\\3395687423.py:15: FutureWarning: The frame.append method is deprecated and will be removed from pandas in a future version. Use pandas.concat instead.\n",
      "  video_df = video_df.append(video_data, ignore_index=True)\n"
     ]
    }
   ],
   "source": [
    "video_df = pd.DataFrame()\n",
    "# comments_df = pd.DataFrame()\n",
    "\n",
    "for c in channel_data['channelName'].unique():\n",
    "    print(\"Getting video information from channel: \" + c)\n",
    "    playlist_id = channel_data.loc[channel_data['channelName']== c, 'playlistId'].iloc[0]\n",
    "    video_ids = get_video_ids(youtube, playlist_id)\n",
    "    \n",
    "    # get video data\n",
    "    video_data = get_video_details(youtube, video_ids)\n",
    "    # get comment data\n",
    "    # comments_data = get_comments_in_videos(youtube, video_ids)\n",
    "\n",
    "    # append video data together and comment data toghether\n",
    "    video_df = video_df.append(video_data, ignore_index=True)\n",
    "    # comments_df = comments_df.append(comments_data, ignore_index=True)"
   ]
  },
  {
   "cell_type": "code",
   "execution_count": 20,
   "id": "4ad07aff-01f0-44eb-83a9-661070632d37",
   "metadata": {
    "tags": []
   },
   "outputs": [
    {
     "data": {
      "text/html": [
       "<div>\n",
       "<style scoped>\n",
       "    .dataframe tbody tr th:only-of-type {\n",
       "        vertical-align: middle;\n",
       "    }\n",
       "\n",
       "    .dataframe tbody tr th {\n",
       "        vertical-align: top;\n",
       "    }\n",
       "\n",
       "    .dataframe thead th {\n",
       "        text-align: right;\n",
       "    }\n",
       "</style>\n",
       "<table border=\"1\" class=\"dataframe\">\n",
       "  <thead>\n",
       "    <tr style=\"text-align: right;\">\n",
       "      <th></th>\n",
       "      <th>video_id</th>\n",
       "      <th>channelTitle</th>\n",
       "      <th>title</th>\n",
       "      <th>description</th>\n",
       "      <th>tags</th>\n",
       "      <th>publishedAt</th>\n",
       "      <th>viewCount</th>\n",
       "      <th>likeCount</th>\n",
       "      <th>favouriteCount</th>\n",
       "      <th>commentCount</th>\n",
       "      <th>duration</th>\n",
       "      <th>definition</th>\n",
       "      <th>caption</th>\n",
       "    </tr>\n",
       "  </thead>\n",
       "  <tbody>\n",
       "    <tr>\n",
       "      <th>0</th>\n",
       "      <td>Ka04Dj7DxGk</td>\n",
       "      <td>StatQuest with Josh Starmer</td>\n",
       "      <td>Another 3 lessons from my Pop!!!</td>\n",
       "      <td>Since September 4th is Global Frank Starmer Da...</td>\n",
       "      <td>[Josh Starmer, StatQuest, Machine Learning, St...</td>\n",
       "      <td>2023-09-04T04:00:16Z</td>\n",
       "      <td>6052</td>\n",
       "      <td>241</td>\n",
       "      <td>None</td>\n",
       "      <td>36</td>\n",
       "      <td>PT6M46S</td>\n",
       "      <td>hd</td>\n",
       "      <td>false</td>\n",
       "    </tr>\n",
       "    <tr>\n",
       "      <th>1</th>\n",
       "      <td>bQ5BoolX9Ag</td>\n",
       "      <td>StatQuest with Josh Starmer</td>\n",
       "      <td>Decoder-Only Transformers, ChatGPTs specific T...</td>\n",
       "      <td>Transformers are taking over AI right now, and...</td>\n",
       "      <td>[Josh Starmer, StatQuest, Machine Learning, St...</td>\n",
       "      <td>2023-08-28T04:00:30Z</td>\n",
       "      <td>19394</td>\n",
       "      <td>690</td>\n",
       "      <td>None</td>\n",
       "      <td>104</td>\n",
       "      <td>PT36M45S</td>\n",
       "      <td>hd</td>\n",
       "      <td>false</td>\n",
       "    </tr>\n",
       "    <tr>\n",
       "      <th>2</th>\n",
       "      <td>zxQyTK8quyY</td>\n",
       "      <td>StatQuest with Josh Starmer</td>\n",
       "      <td>Transformer Neural Networks, ChatGPT's foundat...</td>\n",
       "      <td>Transformer Neural Networks are the heart of p...</td>\n",
       "      <td>[Josh Starmer, StatQuest, Machine Learning, Ne...</td>\n",
       "      <td>2023-07-24T04:00:34Z</td>\n",
       "      <td>156591</td>\n",
       "      <td>5174</td>\n",
       "      <td>None</td>\n",
       "      <td>596</td>\n",
       "      <td>PT36M15S</td>\n",
       "      <td>hd</td>\n",
       "      <td>true</td>\n",
       "    </tr>\n",
       "    <tr>\n",
       "      <th>3</th>\n",
       "      <td>8ZcccMzTz7Y</td>\n",
       "      <td>StatQuest with Josh Starmer</td>\n",
       "      <td>What is a Logit?</td>\n",
       "      <td>I used to see references to logit values or lo...</td>\n",
       "      <td>[Josh Starmer, StatQuest, Machine Learning, St...</td>\n",
       "      <td>2023-06-19T04:00:04Z</td>\n",
       "      <td>9788</td>\n",
       "      <td>343</td>\n",
       "      <td>None</td>\n",
       "      <td>26</td>\n",
       "      <td>PT29S</td>\n",
       "      <td>hd</td>\n",
       "      <td>false</td>\n",
       "    </tr>\n",
       "    <tr>\n",
       "      <th>4</th>\n",
       "      <td>YaQEUgIr4Mk</td>\n",
       "      <td>StatQuest with Josh Starmer</td>\n",
       "      <td>Logistic vs Logit Functions</td>\n",
       "      <td>Gosh, here are some terms that I could never g...</td>\n",
       "      <td>[Josh Starmer, StatQuest, Machine Learning, St...</td>\n",
       "      <td>2023-06-12T04:00:16Z</td>\n",
       "      <td>5966</td>\n",
       "      <td>261</td>\n",
       "      <td>None</td>\n",
       "      <td>18</td>\n",
       "      <td>PT30S</td>\n",
       "      <td>hd</td>\n",
       "      <td>false</td>\n",
       "    </tr>\n",
       "    <tr>\n",
       "      <th>...</th>\n",
       "      <td>...</td>\n",
       "      <td>...</td>\n",
       "      <td>...</td>\n",
       "      <td>...</td>\n",
       "      <td>...</td>\n",
       "      <td>...</td>\n",
       "      <td>...</td>\n",
       "      <td>...</td>\n",
       "      <td>...</td>\n",
       "      <td>...</td>\n",
       "      <td>...</td>\n",
       "      <td>...</td>\n",
       "      <td>...</td>\n",
       "    </tr>\n",
       "    <tr>\n",
       "      <th>1814</th>\n",
       "      <td>zlWkB4bzZsg</td>\n",
       "      <td>Corey Schafer</td>\n",
       "      <td>Lab Puppy playing fetch in a lake</td>\n",
       "      <td>My chocolate lab puppy and I playing fetch at ...</td>\n",
       "      <td>[Dog, Puppy, Chocolate Lab, Labrador, Labrador...</td>\n",
       "      <td>2014-04-25T15:34:01Z</td>\n",
       "      <td>13189</td>\n",
       "      <td>434</td>\n",
       "      <td>None</td>\n",
       "      <td>22</td>\n",
       "      <td>PT1M2S</td>\n",
       "      <td>hd</td>\n",
       "      <td>false</td>\n",
       "    </tr>\n",
       "    <tr>\n",
       "      <th>1815</th>\n",
       "      <td>_63O1hgJTaQ</td>\n",
       "      <td>Corey Schafer</td>\n",
       "      <td>Lab Puppy playing fetch in a creek</td>\n",
       "      <td>My chocolate lab puppy and I playing fetch in ...</td>\n",
       "      <td>[Dog, Puppy, Chocolate Lab, Labrador, Labrador...</td>\n",
       "      <td>2014-04-25T15:23:56Z</td>\n",
       "      <td>12517</td>\n",
       "      <td>280</td>\n",
       "      <td>None</td>\n",
       "      <td>7</td>\n",
       "      <td>PT43S</td>\n",
       "      <td>hd</td>\n",
       "      <td>false</td>\n",
       "    </tr>\n",
       "    <tr>\n",
       "      <th>1816</th>\n",
       "      <td>sEJGynuNdWw</td>\n",
       "      <td>Corey Schafer</td>\n",
       "      <td>If I'm running even 1 minute late for my dog's...</td>\n",
       "      <td>I take my dog for a long walk every morning. A...</td>\n",
       "      <td>[Dog, Puppy, Chocolate Lab, Labrador, Funny, D...</td>\n",
       "      <td>2014-04-25T14:25:06Z</td>\n",
       "      <td>73891</td>\n",
       "      <td>1609</td>\n",
       "      <td>None</td>\n",
       "      <td>72</td>\n",
       "      <td>PT40S</td>\n",
       "      <td>hd</td>\n",
       "      <td>false</td>\n",
       "    </tr>\n",
       "    <tr>\n",
       "      <th>1817</th>\n",
       "      <td>iT1SE6AMbq0</td>\n",
       "      <td>Corey Schafer</td>\n",
       "      <td>Lab Puppy Diving in Snow</td>\n",
       "      <td>Lab puppy diving into the snow for a snowball</td>\n",
       "      <td>[Puppy (Animal), Dog (Organism Classification)...</td>\n",
       "      <td>2014-03-22T04:32:13Z</td>\n",
       "      <td>27261</td>\n",
       "      <td>525</td>\n",
       "      <td>None</td>\n",
       "      <td>17</td>\n",
       "      <td>PT55S</td>\n",
       "      <td>hd</td>\n",
       "      <td>false</td>\n",
       "    </tr>\n",
       "    <tr>\n",
       "      <th>1818</th>\n",
       "      <td>UI1x1nevQD0</td>\n",
       "      <td>Corey Schafer</td>\n",
       "      <td>Lab puppy playing in bath tub</td>\n",
       "      <td>Lab puppy playing in his bath water.</td>\n",
       "      <td>[Dogs, Playing, Cute, Puppy, Lab, Chocolate La...</td>\n",
       "      <td>2014-01-20T02:35:57Z</td>\n",
       "      <td>26253</td>\n",
       "      <td>753</td>\n",
       "      <td>None</td>\n",
       "      <td>39</td>\n",
       "      <td>PT1M15S</td>\n",
       "      <td>hd</td>\n",
       "      <td>false</td>\n",
       "    </tr>\n",
       "  </tbody>\n",
       "</table>\n",
       "<p>1819 rows × 13 columns</p>\n",
       "</div>"
      ],
      "text/plain": [
       "         video_id                 channelTitle  \\\n",
       "0     Ka04Dj7DxGk  StatQuest with Josh Starmer   \n",
       "1     bQ5BoolX9Ag  StatQuest with Josh Starmer   \n",
       "2     zxQyTK8quyY  StatQuest with Josh Starmer   \n",
       "3     8ZcccMzTz7Y  StatQuest with Josh Starmer   \n",
       "4     YaQEUgIr4Mk  StatQuest with Josh Starmer   \n",
       "...           ...                          ...   \n",
       "1814  zlWkB4bzZsg                Corey Schafer   \n",
       "1815  _63O1hgJTaQ                Corey Schafer   \n",
       "1816  sEJGynuNdWw                Corey Schafer   \n",
       "1817  iT1SE6AMbq0                Corey Schafer   \n",
       "1818  UI1x1nevQD0                Corey Schafer   \n",
       "\n",
       "                                                  title  \\\n",
       "0                      Another 3 lessons from my Pop!!!   \n",
       "1     Decoder-Only Transformers, ChatGPTs specific T...   \n",
       "2     Transformer Neural Networks, ChatGPT's foundat...   \n",
       "3                                      What is a Logit?   \n",
       "4                           Logistic vs Logit Functions   \n",
       "...                                                 ...   \n",
       "1814                  Lab Puppy playing fetch in a lake   \n",
       "1815                 Lab Puppy playing fetch in a creek   \n",
       "1816  If I'm running even 1 minute late for my dog's...   \n",
       "1817                           Lab Puppy Diving in Snow   \n",
       "1818                      Lab puppy playing in bath tub   \n",
       "\n",
       "                                            description  \\\n",
       "0     Since September 4th is Global Frank Starmer Da...   \n",
       "1     Transformers are taking over AI right now, and...   \n",
       "2     Transformer Neural Networks are the heart of p...   \n",
       "3     I used to see references to logit values or lo...   \n",
       "4     Gosh, here are some terms that I could never g...   \n",
       "...                                                 ...   \n",
       "1814  My chocolate lab puppy and I playing fetch at ...   \n",
       "1815  My chocolate lab puppy and I playing fetch in ...   \n",
       "1816  I take my dog for a long walk every morning. A...   \n",
       "1817      Lab puppy diving into the snow for a snowball   \n",
       "1818               Lab puppy playing in his bath water.   \n",
       "\n",
       "                                                   tags           publishedAt  \\\n",
       "0     [Josh Starmer, StatQuest, Machine Learning, St...  2023-09-04T04:00:16Z   \n",
       "1     [Josh Starmer, StatQuest, Machine Learning, St...  2023-08-28T04:00:30Z   \n",
       "2     [Josh Starmer, StatQuest, Machine Learning, Ne...  2023-07-24T04:00:34Z   \n",
       "3     [Josh Starmer, StatQuest, Machine Learning, St...  2023-06-19T04:00:04Z   \n",
       "4     [Josh Starmer, StatQuest, Machine Learning, St...  2023-06-12T04:00:16Z   \n",
       "...                                                 ...                   ...   \n",
       "1814  [Dog, Puppy, Chocolate Lab, Labrador, Labrador...  2014-04-25T15:34:01Z   \n",
       "1815  [Dog, Puppy, Chocolate Lab, Labrador, Labrador...  2014-04-25T15:23:56Z   \n",
       "1816  [Dog, Puppy, Chocolate Lab, Labrador, Funny, D...  2014-04-25T14:25:06Z   \n",
       "1817  [Puppy (Animal), Dog (Organism Classification)...  2014-03-22T04:32:13Z   \n",
       "1818  [Dogs, Playing, Cute, Puppy, Lab, Chocolate La...  2014-01-20T02:35:57Z   \n",
       "\n",
       "     viewCount likeCount favouriteCount commentCount  duration definition  \\\n",
       "0         6052       241           None           36   PT6M46S         hd   \n",
       "1        19394       690           None          104  PT36M45S         hd   \n",
       "2       156591      5174           None          596  PT36M15S         hd   \n",
       "3         9788       343           None           26     PT29S         hd   \n",
       "4         5966       261           None           18     PT30S         hd   \n",
       "...        ...       ...            ...          ...       ...        ...   \n",
       "1814     13189       434           None           22    PT1M2S         hd   \n",
       "1815     12517       280           None            7     PT43S         hd   \n",
       "1816     73891      1609           None           72     PT40S         hd   \n",
       "1817     27261       525           None           17     PT55S         hd   \n",
       "1818     26253       753           None           39   PT1M15S         hd   \n",
       "\n",
       "     caption  \n",
       "0      false  \n",
       "1      false  \n",
       "2       true  \n",
       "3      false  \n",
       "4      false  \n",
       "...      ...  \n",
       "1814   false  \n",
       "1815   false  \n",
       "1816   false  \n",
       "1817   false  \n",
       "1818   false  \n",
       "\n",
       "[1819 rows x 13 columns]"
      ]
     },
     "execution_count": 20,
     "metadata": {},
     "output_type": "execute_result"
    }
   ],
   "source": [
    "video_df"
   ]
  },
  {
   "cell_type": "code",
   "execution_count": null,
   "id": "43fa9d5e-adac-4c61-b40d-7d9923fc632a",
   "metadata": {},
   "outputs": [],
   "source": []
  }
 ],
 "metadata": {
  "kernelspec": {
   "display_name": "Python 3 (ipykernel)",
   "language": "python",
   "name": "python3"
  },
  "language_info": {
   "codemirror_mode": {
    "name": "ipython",
    "version": 3
   },
   "file_extension": ".py",
   "mimetype": "text/x-python",
   "name": "python",
   "nbconvert_exporter": "python",
   "pygments_lexer": "ipython3",
   "version": "3.11.4"
  }
 },
 "nbformat": 4,
 "nbformat_minor": 5
}
